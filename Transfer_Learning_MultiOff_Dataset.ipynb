{
  "nbformat": 4,
  "nbformat_minor": 0,
  "metadata": {
    "colab": {
      "name": "Transfer Learning MultiOff Dataset.ipynb",
      "provenance": [],
      "collapsed_sections": []
    },
    "kernelspec": {
      "name": "python3",
      "display_name": "Python 3"
    },
    "language_info": {
      "name": "python"
    },
    "accelerator": "GPU"
  },
  "cells": [
    {
      "cell_type": "code",
      "metadata": {
        "colab": {
          "base_uri": "https://localhost:8080/"
        },
        "id": "y6bshhmAMkD9",
        "outputId": "ae597435-b724-4799-ffee-04950515ac81"
      },
      "source": [
        "from google.colab import drive\n",
        "drive.mount('/content/drive')"
      ],
      "execution_count": 1,
      "outputs": [
        {
          "output_type": "stream",
          "text": [
            "Mounted at /content/drive\n"
          ],
          "name": "stdout"
        }
      ]
    },
    {
      "cell_type": "code",
      "metadata": {
        "colab": {
          "base_uri": "https://localhost:8080/"
        },
        "id": "j9vkMfIjMkBL",
        "outputId": "295e5e82-48fa-4584-9301-196f2ed85b9a"
      },
      "source": [
        "from sklearn.model_selection import train_test_split\n",
        "from sklearn.preprocessing import LabelEncoder\n",
        "from sklearn.feature_extraction.text import CountVectorizer\n",
        "import pandas as pd\n",
        "from sklearn import model_selection\n",
        "from keras import preprocessing, Input\n",
        "import matplotlib.pyplot as plt\n",
        "%matplotlib inline\n",
        "import re\n",
        "import nltk\n",
        "nltk.download('stopwords')\n",
        "from nltk.corpus import stopwords\n",
        "from keras.preprocessing import image\n",
        "from keras.preprocessing.text import Tokenizer\n",
        "import numpy as np\n",
        "import os\n",
        "import itertools\n",
        "import numpy as np\n",
        "import keras\n",
        "import h5py\n",
        "from keras import optimizers\n",
        "from keras.models import load_model\n",
        "from keras.layers import Bidirectional\n",
        "from keras.layers.core import Reshape, Dropout\n",
        "from keras.utils.vis_utils import plot_model\n",
        "from keras.layers import Conv1D, MaxPooling1D, Flatten, GlobalAveragePooling3D\n",
        "from keras import regularizers\n",
        "import seaborn as sns \n",
        "from sklearn.metrics import confusion_matrix \n",
        "from keras.applications.inception_v3 import InceptionV3\n",
        "from keras.preprocessing import image\n",
        "from keras.applications.vgg16 import VGG16\n",
        "from keras.applications.vgg16 import preprocess_input\n",
        "from keras.preprocessing.text import Tokenizer\n",
        "import numpy as np\n",
        "from keras.layers import Dense, GlobalAveragePooling2D, Embedding, LSTM, multiply\n",
        "from keras.models import Model\n",
        "from keras import preprocessing, Input\n",
        "import os\n",
        "import itertools\n",
        "from PIL import Image, ImageFile"
      ],
      "execution_count": 2,
      "outputs": [
        {
          "output_type": "stream",
          "text": [
            "[nltk_data] Downloading package stopwords to /root/nltk_data...\n",
            "[nltk_data]   Unzipping corpora/stopwords.zip.\n"
          ],
          "name": "stdout"
        }
      ]
    },
    {
      "cell_type": "code",
      "metadata": {
        "id": "MdHKKviaMj95"
      },
      "source": [
        "Training_path = '/content/drive/MyDrive/MultiOFF_Dataset/Split Dataset/Training_meme_dataset.csv'\n",
        "Validation_path = '/content/drive/MyDrive/MultiOFF_Dataset/Split Dataset/Validation_meme_dataset.csv'\n",
        "Testing_path = '/content/drive/MyDrive/MultiOFF_Dataset/Split Dataset/Testing_meme_dataset.csv'\n",
        "img_dir = \"/content/drive/MyDrive/MultiOFF_Dataset/Labelled Images\""
      ],
      "execution_count": 3,
      "outputs": []
    },
    {
      "cell_type": "markdown",
      "metadata": {
        "id": "nbkSRhK4O8DE"
      },
      "source": [
        "#PreProcessing"
      ]
    },
    {
      "cell_type": "code",
      "metadata": {
        "id": "EiplIFexMj7L"
      },
      "source": [
        "STOPWORDS = set(stopwords.words('english'))\n",
        "REPLACE_BY_SPACE_RE = re.compile('[/(){}\\[\\]\\|@,;]')\n",
        "BAD_SYMBOLS_RE = re.compile('[^0-9a-z #+_]')\n",
        "EMAIL = re.compile('^([a-zA-Z0-9_\\-\\.]+)@([a-zA-Z0-9_\\-\\.]+)\\.([a-zA-Z]{2,5})$')"
      ],
      "execution_count": 4,
      "outputs": []
    },
    {
      "cell_type": "code",
      "metadata": {
        "id": "tGAQoqHxMj4p"
      },
      "source": [
        "def clean_text(text):\n",
        "    text = str(text)\n",
        "    text = text.lower()\n",
        "    text = EMAIL.sub('', text)\n",
        "    text = REPLACE_BY_SPACE_RE.sub(' ',text)\n",
        "    text = BAD_SYMBOLS_RE.sub('',text)    \n",
        "    text = text.replace('x','')\n",
        "    text = ' '.join(word for word in text.split() if word not in STOPWORDS)\n",
        "    \n",
        "    return text\n",
        "\n",
        "def encode_label(DataFrame, Label_col):\n",
        "    t_y = DataFrame[Label_col].values\n",
        "    Encoder = LabelEncoder()\n",
        "    y = Encoder.fit_transform(t_y)\n",
        "    DataFrame[Label_col] = y\n",
        "\n",
        "def preprocess_text(Training_path,Validation_path, Testing_path):\n",
        "    # function to preprocess input\n",
        "    training_DF = pd.read_csv(Training_path, sep = ',')\n",
        "    validation_DF = pd.read_csv(Validation_path, sep = ',')\n",
        "    testing_DF = pd.read_csv(Testing_path, sep = ',')\n",
        "\n",
        "    # encoding all the labels \n",
        "    encode_label(testing_DF,'label')\n",
        "    encode_label(training_DF, 'label')\n",
        "    encode_label(validation_DF, 'label')\n",
        "\n",
        "    clean_text(training_DF['sentence'][0])\n",
        "\n",
        "    # Processing the text\n",
        "    training_DF['sentence'] = training_DF['sentence'].apply(clean_text)\n",
        "    testing_DF['sentence'] = testing_DF['sentence'].apply(clean_text)\n",
        "    validation_DF['sentence'] = validation_DF['sentence'].apply(clean_text)\n",
        "\n",
        "    return training_DF, testing_DF, validation_DF"
      ],
      "execution_count": 5,
      "outputs": []
    },
    {
      "cell_type": "code",
      "metadata": {
        "id": "5WLZOnu4Mj1a"
      },
      "source": [
        "# Dividing data in test, train, validation\n",
        "training_DF, testing_DF, validation_DF = preprocess_text(Training_path,Validation_path, Testing_path)"
      ],
      "execution_count": 6,
      "outputs": []
    },
    {
      "cell_type": "code",
      "metadata": {
        "colab": {
          "base_uri": "https://localhost:8080/",
          "height": 204
        },
        "id": "fcHUkRUr1UnW",
        "outputId": "f159f649-1c17-4f63-cd43-1617d3991dd3"
      },
      "source": [
        "training_DF.head()"
      ],
      "execution_count": 7,
      "outputs": [
        {
          "output_type": "execute_result",
          "data": {
            "text/html": [
              "<div>\n",
              "<style scoped>\n",
              "    .dataframe tbody tr th:only-of-type {\n",
              "        vertical-align: middle;\n",
              "    }\n",
              "\n",
              "    .dataframe tbody tr th {\n",
              "        vertical-align: top;\n",
              "    }\n",
              "\n",
              "    .dataframe thead th {\n",
              "        text-align: right;\n",
              "    }\n",
              "</style>\n",
              "<table border=\"1\" class=\"dataframe\">\n",
              "  <thead>\n",
              "    <tr style=\"text-align: right;\">\n",
              "      <th></th>\n",
              "      <th>image_name</th>\n",
              "      <th>sentence</th>\n",
              "      <th>label</th>\n",
              "    </tr>\n",
              "  </thead>\n",
              "  <tbody>\n",
              "    <tr>\n",
              "      <th>0</th>\n",
              "      <td>LJ3r8Gy.jpg.png</td>\n",
              "      <td>official bernie sanders drinking game every ti...</td>\n",
              "      <td>0</td>\n",
              "    </tr>\n",
              "    <tr>\n",
              "      <th>1</th>\n",
              "      <td>qDnIIHA.png</td>\n",
              "      <td>228 pm wall inside nazi gas chamber dwebs demo...</td>\n",
              "      <td>1</td>\n",
              "    </tr>\n",
              "    <tr>\n",
              "      <th>2</th>\n",
              "      <td>1JQk5NF.png</td>\n",
              "      <td>shit waddup bernie sanders com</td>\n",
              "      <td>1</td>\n",
              "    </tr>\n",
              "    <tr>\n",
              "      <th>3</th>\n",
              "      <td>iMMNq.png</td>\n",
              "      <td>mitt romney worst republican country putup bar...</td>\n",
              "      <td>0</td>\n",
              "    </tr>\n",
              "    <tr>\n",
              "      <th>4</th>\n",
              "      <td>jAi3iI1.png</td>\n",
              "      <td>anonymous id duqda1io 08 05 16 fri 163248 8423...</td>\n",
              "      <td>0</td>\n",
              "    </tr>\n",
              "  </tbody>\n",
              "</table>\n",
              "</div>"
            ],
            "text/plain": [
              "        image_name                                           sentence  label\n",
              "0  LJ3r8Gy.jpg.png  official bernie sanders drinking game every ti...      0\n",
              "1      qDnIIHA.png  228 pm wall inside nazi gas chamber dwebs demo...      1\n",
              "2      1JQk5NF.png                     shit waddup bernie sanders com      1\n",
              "3        iMMNq.png  mitt romney worst republican country putup bar...      0\n",
              "4      jAi3iI1.png  anonymous id duqda1io 08 05 16 fri 163248 8423...      0"
            ]
          },
          "metadata": {
            "tags": []
          },
          "execution_count": 7
        }
      ]
    },
    {
      "cell_type": "markdown",
      "metadata": {
        "id": "DQ4S_RrrO_6w"
      },
      "source": [
        "#Code"
      ]
    },
    {
      "cell_type": "code",
      "metadata": {
        "id": "_X_UPUWlMjyf"
      },
      "source": [
        "def create_img_path(DF, Col_name, img_dir):\n",
        "    img_path = [img_dir + '/' + name for name in DF[Col_name]]\n",
        "    return img_path"
      ],
      "execution_count": 8,
      "outputs": []
    },
    {
      "cell_type": "code",
      "metadata": {
        "id": "dEIrqYBkMjvs"
      },
      "source": [
        "# Processing image and text for each set\n",
        "# Creating train, test and validation image path\n",
        "train_img_path = create_img_path(training_DF,'image_name', img_dir)\n",
        "test_img_path = create_img_path(testing_DF,'image_name', img_dir)\n",
        "val_img_path = create_img_path(validation_DF,'image_name', img_dir)"
      ],
      "execution_count": 9,
      "outputs": []
    },
    {
      "cell_type": "code",
      "metadata": {
        "id": "5ld-z4pQMjsq"
      },
      "source": [
        "maxlen=100\n",
        "# Vectorising text\n",
        "# process the whole observation into single list\n",
        "train_text_list=list(training_DF['sentence'])\n",
        "test_text_list = list(testing_DF['sentence'])\n",
        "val_text_list = list(validation_DF['sentence'])\n",
        "\n",
        "# Creating vectors for train, test, validation\n",
        "tokenizer = Tokenizer(num_words=1000)\n",
        "tokenizer.fit_on_texts(train_text_list)\n",
        "sequences_train = tokenizer.texts_to_sequences(train_text_list)\n",
        "sequences_test = tokenizer.texts_to_sequences(test_text_list)\n",
        "sequences_val = tokenizer.texts_to_sequences(val_text_list)\n",
        "\n",
        "x_train = preprocessing.sequence.pad_sequences(sequences_train, maxlen=maxlen,padding='post')\n",
        "x_test = preprocessing.sequence.pad_sequences(sequences_test, maxlen=maxlen,padding='post')\n",
        "x_val = preprocessing.sequence.pad_sequences(sequences_val, maxlen=maxlen,padding='post')\n",
        "\n",
        "# encoding all the labels \n",
        "y_test = testing_DF['label']\n",
        "y_train = training_DF['label']\n",
        "y_val = validation_DF['label']"
      ],
      "execution_count": 10,
      "outputs": []
    },
    {
      "cell_type": "code",
      "metadata": {
        "id": "aUNls_kOMjp5"
      },
      "source": [
        "def get_input(path):\n",
        "    ImageFile.LOAD_TRUNCATED_IMAGES = True\n",
        "    img = image.load_img(path, target_size=(224,224))    \n",
        "    return(img)\n",
        "\n",
        "def get_output(path,label_file=None):\n",
        "    # Spliting the path and take out the image id    \n",
        "    filename = path[56:]\n",
        "    # Taking list of labels\n",
        "    labels = list(label_file[label_file['image_name'] == filename]['label'].values)\n",
        "    # for duplicate selecting labels\n",
        "    if len(labels) <= 2:\n",
        "        label = labels[0]\n",
        "    elif len(labels) > 2:\n",
        "        uni_label = list(set(labels))\n",
        "        count_label = [labels.count(lab) for lab in uni_label]\n",
        "        lab_idx = count_label.index(max(count_label))\n",
        "        label = uni_label[lab_idx]\n",
        "    return label\n",
        "\n",
        "def process_input(img):   \n",
        "    img_data = image.img_to_array(img)   \n",
        "    img_data = preprocess_input(img_data)\n",
        "    img_data = np.expand_dims(img_data, axis=0)\n",
        "    return(img_data)"
      ],
      "execution_count": 11,
      "outputs": []
    },
    {
      "cell_type": "code",
      "metadata": {
        "id": "S5sp_dYeMjnG"
      },
      "source": [
        "def image_generator(files,label_file, batch_size = None):   \n",
        "    idxs = list(range(len(files)))\n",
        "    idx = 0\n",
        "    while True: \n",
        "        batch_paths = files[idx:idx+batch_size]\n",
        "        idx = idx + batch_size\n",
        "        batch_input = [] # Batch input initialization\n",
        "        batch_output = [] # Batch output initialization\n",
        "          \n",
        "        # Read in each input, perform preprocessing and get labels    \n",
        "        for input_path in batch_paths:\n",
        "            input = get_input(input_path ) # Load image\n",
        "            output = get_output(input_path,label_file=label_file ) # Load label of the image\n",
        "            input = process_input(img=input) # Process the image\n",
        "            batch_input.append(input[0]) # Append the image\n",
        "            batch_output.append(output)  # Append the label\n",
        "            \n",
        "        # Return a tuple of (input,output) to feed the network\n",
        "        batch_x = np.array( batch_input )\n",
        "        batch_y = np.array( batch_output )\n",
        "        if len(batch_x) < batch_size:\n",
        "            idx = 0\n",
        "        else:             \n",
        "            yield (batch_x, batch_y)"
      ],
      "execution_count": 12,
      "outputs": []
    },
    {
      "cell_type": "code",
      "metadata": {
        "id": "4kDKCaEaMjkP"
      },
      "source": [
        "# Creating train, test, val, generator for image\n",
        "img_gen_train = image_generator(train_img_path, training_DF, batch_size=32)\n",
        "img_gen_test = image_generator(test_img_path, testing_DF, batch_size=1)\n",
        "img_gen_val = image_generator(val_img_path, validation_DF, batch_size=1)"
      ],
      "execution_count": 13,
      "outputs": []
    },
    {
      "cell_type": "code",
      "metadata": {
        "id": "jaUCB2bIMjhb"
      },
      "source": [
        "# Assigning class weights\n",
        "class_weight = {1: 1.4,\n",
        "                0: 1.}"
      ],
      "execution_count": 14,
      "outputs": []
    },
    {
      "cell_type": "code",
      "metadata": {
        "colab": {
          "base_uri": "https://localhost:8080/"
        },
        "id": "Ir32e0UsMjei",
        "outputId": "36af8c3b-f490-44dd-f112-0712316fa121"
      },
      "source": [
        "# Defining model with Adam optimizer\n",
        "adam = keras.optimizers.Adam(lr=0.001, beta_1=0.9, beta_2=0.999, epsilon=None, decay=0.0, amsgrad=False)\n",
        "sgd = optimizers.SGD(lr=0.001, decay=1e-6, momentum=0.9, nesterov=True)\n",
        "adadelta = optimizers.Adadelta(lr=1.0, rho=0.95, epsilon=None, decay=0.0)"
      ],
      "execution_count": 15,
      "outputs": [
        {
          "output_type": "stream",
          "text": [
            "/usr/local/lib/python3.7/dist-packages/tensorflow/python/keras/optimizer_v2/optimizer_v2.py:375: UserWarning: The `lr` argument is deprecated, use `learning_rate` instead.\n",
            "  \"The `lr` argument is deprecated, use `learning_rate` instead.\")\n"
          ],
          "name": "stderr"
        }
      ]
    },
    {
      "cell_type": "code",
      "metadata": {
        "id": "3_EBAETa2hCC"
      },
      "source": [
        "TotalTrainingSamples = len(training_DF)\n",
        "TrainingBatchSize = 32\n",
        "TotalvalidationSamples = len(validation_DF)\n",
        "ValidationBatchSize = 1\n",
        "validation_steps = TotalvalidationSamples // ValidationBatchSize\n",
        "steps_per_epoch = TotalTrainingSamples // TrainingBatchSize"
      ],
      "execution_count": 16,
      "outputs": []
    },
    {
      "cell_type": "markdown",
      "metadata": {
        "id": "kD9en9zDPC6f"
      },
      "source": [
        "#PreTrained Models"
      ]
    },
    {
      "cell_type": "code",
      "metadata": {
        "id": "jpyCEI-eJKwz"
      },
      "source": [
        "# Imports\n",
        "import tensorflow as tf\n",
        "import tensorflow_datasets as tfds\n",
        "import keras\n",
        "import pandas as pd\n",
        "import matplotlib.pyplot as plt\n",
        "import inspect\n",
        "from tqdm import tqdm\n",
        "\n",
        "# Set batch size for training and validation\n",
        "batch_size = 32"
      ],
      "execution_count": 19,
      "outputs": []
    },
    {
      "cell_type": "code",
      "metadata": {
        "id": "BvxSC4gtJM0P"
      },
      "source": [
        "model_dictionary = {m[0]:m[1] for m in inspect.getmembers(tf.keras.applications, inspect.isfunction)}"
      ],
      "execution_count": 20,
      "outputs": []
    },
    {
      "cell_type": "code",
      "metadata": {
        "colab": {
          "base_uri": "https://localhost:8080/"
        },
        "id": "Te1ef-_tJVWA",
        "outputId": "0c6c828f-cfca-465a-c770-98fafb700e9f"
      },
      "source": [
        "print(type(model_dictionary))"
      ],
      "execution_count": 21,
      "outputs": [
        {
          "output_type": "stream",
          "text": [
            "<class 'dict'>\n"
          ],
          "name": "stdout"
        }
      ]
    },
    {
      "cell_type": "code",
      "metadata": {
        "colab": {
          "base_uri": "https://localhost:8080/"
        },
        "id": "95iqUxeOJXo0",
        "outputId": "9d212efb-fcf4-4c69-8a28-3735622fdd5e"
      },
      "source": [
        "for i in model_dictionary:\n",
        "  print(i,end=\" \")\n",
        "  print(model_dictionary[i])"
      ],
      "execution_count": 22,
      "outputs": [
        {
          "output_type": "stream",
          "text": [
            "DenseNet121 <function DenseNet121 at 0x7fe2fcc7f710>\n",
            "DenseNet169 <function DenseNet169 at 0x7fe2fcc7f7a0>\n",
            "DenseNet201 <function DenseNet201 at 0x7fe2fcc7f830>\n",
            "EfficientNetB0 <function EfficientNetB0 at 0x7fe2fcc86560>\n",
            "EfficientNetB1 <function EfficientNetB1 at 0x7fe2fcc865f0>\n",
            "EfficientNetB2 <function EfficientNetB2 at 0x7fe2fcc86680>\n",
            "EfficientNetB3 <function EfficientNetB3 at 0x7fe2fcc86710>\n",
            "EfficientNetB4 <function EfficientNetB4 at 0x7fe2fcc867a0>\n",
            "EfficientNetB5 <function EfficientNetB5 at 0x7fe2fcc86830>\n",
            "EfficientNetB6 <function EfficientNetB6 at 0x7fe2fcc868c0>\n",
            "EfficientNetB7 <function EfficientNetB7 at 0x7fe2fcc86950>\n",
            "InceptionResNetV2 <function InceptionResNetV2 at 0x7fe2fcc86440>\n",
            "InceptionV3 <function InceptionV3 at 0x7fe2fcc8e050>\n",
            "MobileNet <function MobileNet at 0x7fe2fcc8e9e0>\n",
            "MobileNetV2 <function MobileNetV2 at 0x7fe2fcc8eef0>\n",
            "MobileNetV3Large <function MobileNetV3Large at 0x7fe2fcc9c4d0>\n",
            "MobileNetV3Small <function MobileNetV3Small at 0x7fe2fcc9c440>\n",
            "NASNetLarge <function NASNetLarge at 0x7fe2fcca44d0>\n",
            "NASNetMobile <function NASNetMobile at 0x7fe2fcca4440>\n",
            "ResNet101 <function ResNet101 at 0x7fe2fccaa9e0>\n",
            "ResNet101V2 <function ResNet101V2 at 0x7fe2fcca73b0>\n",
            "ResNet152 <function ResNet152 at 0x7fe2fccaaa70>\n",
            "ResNet152V2 <function ResNet152V2 at 0x7fe2fcca7440>\n",
            "ResNet50 <function ResNet50 at 0x7fe2fccaa950>\n",
            "ResNet50V2 <function ResNet50V2 at 0x7fe2fccaad40>\n",
            "VGG16 <function VGG16 at 0x7fe2fcca7680>\n",
            "VGG19 <function VGG19 at 0x7fe2fcca7c20>\n",
            "Xception <function Xception at 0x7fe2fccb3200>\n"
          ],
          "name": "stdout"
        }
      ]
    },
    {
      "cell_type": "code",
      "metadata": {
        "id": "7dQEzGoeJeIH"
      },
      "source": [
        "model_dictionary = {m[0]:m[1] for m in inspect.getmembers(tf.keras.applications, inspect.isfunction)}"
      ],
      "execution_count": 23,
      "outputs": []
    },
    {
      "cell_type": "code",
      "metadata": {
        "colab": {
          "base_uri": "https://localhost:8080/"
        },
        "id": "K1z710cLLIPP",
        "outputId": "3debe8d1-07ea-4d78-a421-6679be94ec8f"
      },
      "source": [
        "for model_name, model in tqdm(model_dictionary.items()):\n",
        "  if 'NASNetLarge' in model_name:\n",
        "    print(\"not applicable\")\n",
        "  else:\n",
        "    print(model_name)"
      ],
      "execution_count": 24,
      "outputs": [
        {
          "output_type": "stream",
          "text": [
            "100%|██████████| 28/28 [00:00<00:00, 3253.65it/s]"
          ],
          "name": "stderr"
        },
        {
          "output_type": "stream",
          "text": [
            "DenseNet121\n",
            "DenseNet169\n",
            "DenseNet201\n",
            "EfficientNetB0\n",
            "EfficientNetB1\n",
            "EfficientNetB2\n",
            "EfficientNetB3\n",
            "EfficientNetB4\n",
            "EfficientNetB5\n",
            "EfficientNetB6\n",
            "EfficientNetB7\n",
            "InceptionResNetV2\n",
            "InceptionV3\n",
            "MobileNet\n",
            "MobileNetV2\n",
            "MobileNetV3Large\n",
            "MobileNetV3Small\n",
            "not applicable\n",
            "NASNetMobile\n",
            "ResNet101\n",
            "ResNet101V2\n",
            "ResNet152\n",
            "ResNet152V2\n",
            "ResNet50\n",
            "ResNet50V2\n",
            "VGG16\n",
            "VGG19\n",
            "Xception\n"
          ],
          "name": "stdout"
        },
        {
          "output_type": "stream",
          "text": [
            "\n"
          ],
          "name": "stderr"
        }
      ]
    },
    {
      "cell_type": "markdown",
      "metadata": {
        "id": "SLSu8poCPHN0"
      },
      "source": [
        "#Training"
      ]
    },
    {
      "cell_type": "code",
      "metadata": {
        "colab": {
          "base_uri": "https://localhost:8080/"
        },
        "id": "XODarlSwKw9R",
        "outputId": "78a22b10-f5c9-4524-df29-efabd392763e"
      },
      "source": [
        "model_benchmarks = {'model_name': [], 'num_model_params': [], 'validation_accuracy': []}\n",
        "for model_name, model in tqdm(model_dictionary.items()):\n",
        "    # Special handling for \"NASNetLarge\" since it requires input images with size (331,331)\n",
        "    if 'NASNetLarge' in model_name:\n",
        "      continue\n",
        "    else:\n",
        "        input_shape=(224,224,3)\n",
        "  \n",
        "    # load the pre-trained model with global average pooling as the last layer and freeze the model weights\n",
        "    pre_trained_model = model(weights='imagenet', include_top=False)\n",
        "    for layer in pre_trained_model.layers:\n",
        "      layer.trainable=False\n",
        "\n",
        "    # custom modifications on top of pre-trained model\n",
        "    clf_model = tf.keras.models.Sequential()\n",
        "    clf_model.add(pre_trained_model)\n",
        "    clf_model.add(tf.keras.layers.GlobalAveragePooling2D())\n",
        "    clf_model.add(tf.keras.layers.Dense(1, activation='sigmoid'))\n",
        "    clf_model.compile(loss='binary_crossentropy', metrics=['accuracy'])\n",
        "    try:\n",
        "      history = clf_model.fit(img_gen_train, epochs=10, validation_data=img_gen_val,validation_steps = validation_steps,steps_per_epoch=steps_per_epoch,shuffle=False,class_weight=class_weight)\n",
        "    # Calculate all relevant metrics\n",
        "      model_benchmarks['model_name'].append(model_name)\n",
        "      model_benchmarks['num_model_params'].append(pre_trained_model.count_params())\n",
        "      model_benchmarks['validation_accuracy'].append(history.history['val_accuracy'][-1])\n",
        "    except:\n",
        "      continue"
      ],
      "execution_count": 25,
      "outputs": [
        {
          "output_type": "stream",
          "text": [
            "\r  0%|          | 0/28 [00:00<?, ?it/s]"
          ],
          "name": "stderr"
        },
        {
          "output_type": "stream",
          "text": [
            "Downloading data from https://storage.googleapis.com/tensorflow/keras-applications/densenet/densenet121_weights_tf_dim_ordering_tf_kernels_notop.h5\n",
            "29089792/29084464 [==============================] - 0s 0us/step\n",
            "WARNING:tensorflow:From /usr/local/lib/python3.7/dist-packages/tensorflow/python/ops/array_ops.py:5049: calling gather (from tensorflow.python.ops.array_ops) with validate_indices is deprecated and will be removed in a future version.\n",
            "Instructions for updating:\n",
            "The `validate_indices` argument has no effect. Indices are always validated on CPU and never validated on GPU.\n",
            "Epoch 1/10\n",
            "13/13 [==============================] - 161s 10s/step - loss: 3.2404 - accuracy: 0.5120 - val_loss: 2.4457 - val_accuracy: 0.5235\n",
            "Epoch 2/10\n",
            "13/13 [==============================] - 12s 998ms/step - loss: 2.4665 - accuracy: 0.5168 - val_loss: 2.2105 - val_accuracy: 0.5168\n",
            "Epoch 3/10\n",
            "13/13 [==============================] - 13s 1s/step - loss: 2.2463 - accuracy: 0.5096 - val_loss: 2.0735 - val_accuracy: 0.4966\n",
            "Epoch 4/10\n",
            "13/13 [==============================] - 13s 1s/step - loss: 2.0751 - accuracy: 0.5264 - val_loss: 2.0330 - val_accuracy: 0.5168\n",
            "Epoch 5/10\n",
            "13/13 [==============================] - 12s 963ms/step - loss: 1.9376 - accuracy: 0.5385 - val_loss: 2.0132 - val_accuracy: 0.5101\n",
            "Epoch 6/10\n",
            "13/13 [==============================] - 12s 957ms/step - loss: 1.8230 - accuracy: 0.5433 - val_loss: 1.9708 - val_accuracy: 0.5034\n",
            "Epoch 7/10\n",
            "13/13 [==============================] - 12s 962ms/step - loss: 1.7281 - accuracy: 0.5433 - val_loss: 1.9019 - val_accuracy: 0.5034\n",
            "Epoch 8/10\n",
            "13/13 [==============================] - 12s 1s/step - loss: 1.6482 - accuracy: 0.5433 - val_loss: 1.8349 - val_accuracy: 0.5101\n",
            "Epoch 9/10\n",
            "13/13 [==============================] - 13s 1s/step - loss: 1.5795 - accuracy: 0.5481 - val_loss: 1.7866 - val_accuracy: 0.5168\n",
            "Epoch 10/10\n",
            "13/13 [==============================] - 12s 968ms/step - loss: 1.5171 - accuracy: 0.5601 - val_loss: 1.3929 - val_accuracy: 0.5436\n"
          ],
          "name": "stdout"
        },
        {
          "output_type": "stream",
          "text": [
            "\r  4%|▎         | 1/28 [05:45<2:35:25, 345.38s/it]"
          ],
          "name": "stderr"
        },
        {
          "output_type": "stream",
          "text": [
            "Downloading data from https://storage.googleapis.com/tensorflow/keras-applications/densenet/densenet169_weights_tf_dim_ordering_tf_kernels_notop.h5\n",
            "51879936/51877672 [==============================] - 0s 0us/step\n",
            "Epoch 1/10\n",
            "13/13 [==============================] - 23s 1s/step - loss: 4.1707 - accuracy: 0.4784 - val_loss: 1.8436 - val_accuracy: 0.6242\n",
            "Epoch 2/10\n",
            "13/13 [==============================] - 13s 1s/step - loss: 2.9287 - accuracy: 0.4880 - val_loss: 1.8120 - val_accuracy: 0.6040\n",
            "Epoch 3/10\n",
            "13/13 [==============================] - 13s 1s/step - loss: 2.5439 - accuracy: 0.5240 - val_loss: 1.7963 - val_accuracy: 0.5705\n",
            "Epoch 4/10\n",
            "13/13 [==============================] - 13s 1s/step - loss: 2.3569 - accuracy: 0.5385 - val_loss: 1.6190 - val_accuracy: 0.6107\n",
            "Epoch 5/10\n",
            "13/13 [==============================] - 13s 1s/step - loss: 1.8514 - accuracy: 0.5673 - val_loss: 1.6671 - val_accuracy: 0.5906\n",
            "Epoch 6/10\n",
            "13/13 [==============================] - 14s 1s/step - loss: 2.2316 - accuracy: 0.5312 - val_loss: 1.4954 - val_accuracy: 0.5705\n",
            "Epoch 7/10\n",
            "13/13 [==============================] - 13s 1s/step - loss: 2.1852 - accuracy: 0.5505 - val_loss: 1.4077 - val_accuracy: 0.5839\n",
            "Epoch 8/10\n",
            "13/13 [==============================] - 13s 1s/step - loss: 1.7569 - accuracy: 0.5817 - val_loss: 1.5467 - val_accuracy: 0.5436\n",
            "Epoch 9/10\n",
            "13/13 [==============================] - 13s 1s/step - loss: 2.0481 - accuracy: 0.5361 - val_loss: 1.4197 - val_accuracy: 0.6107\n",
            "Epoch 10/10\n",
            "13/13 [==============================] - 13s 1s/step - loss: 1.6403 - accuracy: 0.5889 - val_loss: 1.7232 - val_accuracy: 0.5638\n"
          ],
          "name": "stdout"
        },
        {
          "output_type": "stream",
          "text": [
            "\r  7%|▋         | 2/28 [08:19<2:04:48, 288.03s/it]"
          ],
          "name": "stderr"
        },
        {
          "output_type": "stream",
          "text": [
            "Downloading data from https://storage.googleapis.com/tensorflow/keras-applications/densenet/densenet201_weights_tf_dim_ordering_tf_kernels_notop.h5\n",
            "74842112/74836368 [==============================] - 1s 0us/step\n",
            "Epoch 1/10\n",
            "13/13 [==============================] - 27s 1s/step - loss: 3.5765 - accuracy: 0.4928 - val_loss: 1.8352 - val_accuracy: 0.6242\n",
            "Epoch 2/10\n",
            "13/13 [==============================] - 13s 1s/step - loss: 2.2741 - accuracy: 0.5168 - val_loss: 2.5568 - val_accuracy: 0.6040\n",
            "Epoch 3/10\n",
            "13/13 [==============================] - 14s 1s/step - loss: 2.1963 - accuracy: 0.5481 - val_loss: 2.0884 - val_accuracy: 0.6242\n",
            "Epoch 4/10\n",
            "13/13 [==============================] - 14s 1s/step - loss: 2.4082 - accuracy: 0.5481 - val_loss: 1.5873 - val_accuracy: 0.6107\n",
            "Epoch 5/10\n",
            "13/13 [==============================] - 13s 1s/step - loss: 1.7715 - accuracy: 0.5601 - val_loss: 2.3632 - val_accuracy: 0.6107\n",
            "Epoch 6/10\n",
            "13/13 [==============================] - 13s 1s/step - loss: 1.8016 - accuracy: 0.5841 - val_loss: 1.5626 - val_accuracy: 0.6376\n",
            "Epoch 7/10\n",
            "13/13 [==============================] - 13s 1s/step - loss: 2.2381 - accuracy: 0.5697 - val_loss: 1.5179 - val_accuracy: 0.6242\n",
            "Epoch 8/10\n",
            "13/13 [==============================] - 14s 1s/step - loss: 1.9311 - accuracy: 0.5865 - val_loss: 1.5392 - val_accuracy: 0.5772\n",
            "Epoch 9/10\n",
            "13/13 [==============================] - 14s 1s/step - loss: 1.5838 - accuracy: 0.5625 - val_loss: 1.9483 - val_accuracy: 0.6242\n",
            "Epoch 10/10\n",
            "13/13 [==============================] - 13s 1s/step - loss: 2.0408 - accuracy: 0.5865 - val_loss: 1.4831 - val_accuracy: 0.6040\n"
          ],
          "name": "stdout"
        },
        {
          "output_type": "stream",
          "text": [
            "\r 11%|█         | 3/28 [10:56<1:43:39, 248.76s/it]"
          ],
          "name": "stderr"
        },
        {
          "output_type": "stream",
          "text": [
            "Downloading data from https://storage.googleapis.com/keras-applications/efficientnetb0_notop.h5\n",
            "16711680/16705208 [==============================] - 0s 0us/step\n",
            "Epoch 1/10\n",
            "13/13 [==============================] - 18s 1s/step - loss: 0.8393 - accuracy: 0.4736 - val_loss: 0.6830 - val_accuracy: 0.5705\n",
            "Epoch 2/10\n",
            "13/13 [==============================] - 12s 977ms/step - loss: 0.7880 - accuracy: 0.5841 - val_loss: 0.6783 - val_accuracy: 0.5839\n",
            "Epoch 3/10\n",
            "13/13 [==============================] - 12s 995ms/step - loss: 0.7659 - accuracy: 0.5938 - val_loss: 0.6718 - val_accuracy: 0.6174\n",
            "Epoch 4/10\n",
            "13/13 [==============================] - 12s 953ms/step - loss: 0.7467 - accuracy: 0.6418 - val_loss: 0.6697 - val_accuracy: 0.6242\n",
            "Epoch 5/10\n",
            "13/13 [==============================] - 11s 925ms/step - loss: 0.7287 - accuracy: 0.6587 - val_loss: 0.6681 - val_accuracy: 0.6242\n",
            "Epoch 6/10\n",
            "13/13 [==============================] - 11s 925ms/step - loss: 0.7204 - accuracy: 0.6683 - val_loss: 0.6705 - val_accuracy: 0.6309\n",
            "Epoch 7/10\n",
            "13/13 [==============================] - 11s 922ms/step - loss: 0.7044 - accuracy: 0.7067 - val_loss: 0.6682 - val_accuracy: 0.6242\n",
            "Epoch 8/10\n",
            "13/13 [==============================] - 12s 989ms/step - loss: 0.6902 - accuracy: 0.7332 - val_loss: 0.6710 - val_accuracy: 0.6174\n",
            "Epoch 9/10\n",
            "13/13 [==============================] - 12s 985ms/step - loss: 0.6750 - accuracy: 0.7380 - val_loss: 0.6701 - val_accuracy: 0.6107\n",
            "Epoch 10/10\n",
            "13/13 [==============================] - 11s 945ms/step - loss: 0.6554 - accuracy: 0.7476 - val_loss: 0.6736 - val_accuracy: 0.6040\n"
          ],
          "name": "stdout"
        },
        {
          "output_type": "stream",
          "text": [
            "\r 14%|█▍        | 4/28 [13:26<1:27:38, 219.08s/it]"
          ],
          "name": "stderr"
        },
        {
          "output_type": "stream",
          "text": [
            "Downloading data from https://storage.googleapis.com/keras-applications/efficientnetb1_notop.h5\n",
            "27025408/27018416 [==============================] - 0s 0us/step\n",
            "Epoch 1/10\n",
            "13/13 [==============================] - 22s 1s/step - loss: 0.8367 - accuracy: 0.5096 - val_loss: 0.6876 - val_accuracy: 0.5705\n",
            "Epoch 2/10\n",
            "13/13 [==============================] - 12s 955ms/step - loss: 0.7928 - accuracy: 0.5553 - val_loss: 0.6878 - val_accuracy: 0.5839\n",
            "Epoch 3/10\n",
            "13/13 [==============================] - 12s 1s/step - loss: 0.7799 - accuracy: 0.5817 - val_loss: 0.6868 - val_accuracy: 0.5772\n",
            "Epoch 4/10\n",
            "13/13 [==============================] - 12s 1s/step - loss: 0.7563 - accuracy: 0.6418 - val_loss: 0.6854 - val_accuracy: 0.5705\n",
            "Epoch 5/10\n",
            "13/13 [==============================] - 12s 971ms/step - loss: 0.7363 - accuracy: 0.6659 - val_loss: 0.6820 - val_accuracy: 0.5638\n",
            "Epoch 6/10\n",
            "13/13 [==============================] - 12s 959ms/step - loss: 0.7162 - accuracy: 0.6803 - val_loss: 0.6830 - val_accuracy: 0.5705\n",
            "Epoch 7/10\n",
            "13/13 [==============================] - 12s 961ms/step - loss: 0.7108 - accuracy: 0.6923 - val_loss: 0.6807 - val_accuracy: 0.5772\n",
            "Epoch 8/10\n",
            "13/13 [==============================] - 12s 967ms/step - loss: 0.6939 - accuracy: 0.7188 - val_loss: 0.6818 - val_accuracy: 0.5638\n",
            "Epoch 9/10\n",
            "13/13 [==============================] - 12s 1s/step - loss: 0.6797 - accuracy: 0.7212 - val_loss: 0.6823 - val_accuracy: 0.5570\n",
            "Epoch 10/10\n",
            "13/13 [==============================] - 12s 1s/step - loss: 0.6727 - accuracy: 0.7428 - val_loss: 0.6853 - val_accuracy: 0.5705\n"
          ],
          "name": "stdout"
        },
        {
          "output_type": "stream",
          "text": [
            "\r 18%|█▊        | 5/28 [15:40<1:14:09, 193.46s/it]"
          ],
          "name": "stderr"
        },
        {
          "output_type": "stream",
          "text": [
            "Downloading data from https://storage.googleapis.com/keras-applications/efficientnetb2_notop.h5\n",
            "31793152/31790344 [==============================] - 0s 0us/step\n",
            "Epoch 1/10\n",
            "13/13 [==============================] - 22s 1s/step - loss: 0.8198 - accuracy: 0.5288 - val_loss: 0.7127 - val_accuracy: 0.4832\n",
            "Epoch 2/10\n",
            "13/13 [==============================] - 12s 985ms/step - loss: 0.7811 - accuracy: 0.5913 - val_loss: 0.7077 - val_accuracy: 0.5168\n",
            "Epoch 3/10\n",
            "13/13 [==============================] - 13s 1s/step - loss: 0.7656 - accuracy: 0.6250 - val_loss: 0.7013 - val_accuracy: 0.5369\n",
            "Epoch 4/10\n",
            "13/13 [==============================] - 13s 1s/step - loss: 0.7415 - accuracy: 0.6490 - val_loss: 0.7039 - val_accuracy: 0.5235\n",
            "Epoch 5/10\n",
            "13/13 [==============================] - 12s 988ms/step - loss: 0.7254 - accuracy: 0.6803 - val_loss: 0.7005 - val_accuracy: 0.5235\n",
            "Epoch 6/10\n",
            "13/13 [==============================] - 12s 980ms/step - loss: 0.7133 - accuracy: 0.6995 - val_loss: 0.7048 - val_accuracy: 0.5369\n",
            "Epoch 7/10\n",
            "13/13 [==============================] - 12s 981ms/step - loss: 0.7002 - accuracy: 0.6851 - val_loss: 0.7048 - val_accuracy: 0.5369\n",
            "Epoch 8/10\n",
            "13/13 [==============================] - 12s 1s/step - loss: 0.6932 - accuracy: 0.7091 - val_loss: 0.7009 - val_accuracy: 0.5369\n",
            "Epoch 9/10\n",
            "13/13 [==============================] - 13s 1s/step - loss: 0.6763 - accuracy: 0.7236 - val_loss: 0.6988 - val_accuracy: 0.5503\n",
            "Epoch 10/10\n",
            "13/13 [==============================] - 12s 1s/step - loss: 0.6670 - accuracy: 0.7596 - val_loss: 0.6991 - val_accuracy: 0.5570\n"
          ],
          "name": "stdout"
        },
        {
          "output_type": "stream",
          "text": [
            "\r 21%|██▏       | 6/28 [17:56<1:04:35, 176.18s/it]"
          ],
          "name": "stderr"
        },
        {
          "output_type": "stream",
          "text": [
            "Downloading data from https://storage.googleapis.com/keras-applications/efficientnetb3_notop.h5\n",
            "43941888/43941136 [==============================] - 0s 0us/step\n",
            "Epoch 1/10\n",
            "13/13 [==============================] - 25s 1s/step - loss: 0.8333 - accuracy: 0.5024 - val_loss: 0.6898 - val_accuracy: 0.5503\n",
            "Epoch 2/10\n",
            "13/13 [==============================] - 12s 1000ms/step - loss: 0.7786 - accuracy: 0.5745 - val_loss: 0.6854 - val_accuracy: 0.5570\n",
            "Epoch 3/10\n",
            "13/13 [==============================] - 12s 999ms/step - loss: 0.7500 - accuracy: 0.6418 - val_loss: 0.6800 - val_accuracy: 0.5772\n",
            "Epoch 4/10\n",
            "13/13 [==============================] - 12s 1s/step - loss: 0.7286 - accuracy: 0.6587 - val_loss: 0.6806 - val_accuracy: 0.5638\n",
            "Epoch 5/10\n",
            "13/13 [==============================] - 13s 1s/step - loss: 0.7153 - accuracy: 0.6707 - val_loss: 0.6792 - val_accuracy: 0.5570\n",
            "Epoch 6/10\n",
            "13/13 [==============================] - 13s 1s/step - loss: 0.6927 - accuracy: 0.7212 - val_loss: 0.6746 - val_accuracy: 0.5705\n",
            "Epoch 7/10\n",
            "13/13 [==============================] - 12s 1s/step - loss: 0.6682 - accuracy: 0.7404 - val_loss: 0.6741 - val_accuracy: 0.5503\n",
            "Epoch 8/10\n",
            "13/13 [==============================] - 12s 994ms/step - loss: 0.6547 - accuracy: 0.7356 - val_loss: 0.6714 - val_accuracy: 0.5638\n",
            "Epoch 9/10\n",
            "13/13 [==============================] - 12s 1s/step - loss: 0.6479 - accuracy: 0.7548 - val_loss: 0.6733 - val_accuracy: 0.5570\n",
            "Epoch 10/10\n",
            "13/13 [==============================] - 13s 1s/step - loss: 0.6420 - accuracy: 0.7380 - val_loss: 0.6752 - val_accuracy: 0.5570\n"
          ],
          "name": "stdout"
        },
        {
          "output_type": "stream",
          "text": [
            "\r 25%|██▌       | 7/28 [20:30<59:23, 169.68s/it]  "
          ],
          "name": "stderr"
        },
        {
          "output_type": "stream",
          "text": [
            "Downloading data from https://storage.googleapis.com/keras-applications/efficientnetb4_notop.h5\n",
            "71688192/71686520 [==============================] - 1s 0us/step\n",
            "Epoch 1/10\n",
            "13/13 [==============================] - 26s 1s/step - loss: 0.8188 - accuracy: 0.5096 - val_loss: 0.6766 - val_accuracy: 0.6107\n",
            "Epoch 2/10\n",
            "13/13 [==============================] - 12s 1s/step - loss: 0.7719 - accuracy: 0.6130 - val_loss: 0.6717 - val_accuracy: 0.6174\n",
            "Epoch 3/10\n",
            "13/13 [==============================] - 13s 1s/step - loss: 0.7533 - accuracy: 0.6635 - val_loss: 0.6679 - val_accuracy: 0.6040\n",
            "Epoch 4/10\n",
            "13/13 [==============================] - 13s 1s/step - loss: 0.7269 - accuracy: 0.6971 - val_loss: 0.6674 - val_accuracy: 0.5839\n",
            "Epoch 5/10\n",
            "13/13 [==============================] - 13s 1s/step - loss: 0.7136 - accuracy: 0.6923 - val_loss: 0.6681 - val_accuracy: 0.5772\n",
            "Epoch 6/10\n",
            "13/13 [==============================] - 13s 1s/step - loss: 0.7029 - accuracy: 0.7236 - val_loss: 0.6654 - val_accuracy: 0.5839\n",
            "Epoch 7/10\n",
            "13/13 [==============================] - 13s 1s/step - loss: 0.6828 - accuracy: 0.7284 - val_loss: 0.6649 - val_accuracy: 0.5839\n",
            "Epoch 8/10\n",
            "13/13 [==============================] - 14s 1s/step - loss: 0.6711 - accuracy: 0.7332 - val_loss: 0.6670 - val_accuracy: 0.5772\n",
            "Epoch 9/10\n",
            "13/13 [==============================] - 14s 1s/step - loss: 0.6602 - accuracy: 0.7380 - val_loss: 0.6685 - val_accuracy: 0.5839\n",
            "Epoch 10/10\n",
            "13/13 [==============================] - 13s 1s/step - loss: 0.6465 - accuracy: 0.7548 - val_loss: 0.6695 - val_accuracy: 0.5705\n"
          ],
          "name": "stdout"
        },
        {
          "output_type": "stream",
          "text": [
            "\r 29%|██▊       | 8/28 [23:07<55:16, 165.83s/it]"
          ],
          "name": "stderr"
        },
        {
          "output_type": "stream",
          "text": [
            "Downloading data from https://storage.googleapis.com/keras-applications/efficientnetb5_notop.h5\n",
            "115269632/115263384 [==============================] - 1s 0us/step\n",
            "Epoch 1/10\n",
            "13/13 [==============================] - 30s 2s/step - loss: 0.8256 - accuracy: 0.5024 - val_loss: 0.6747 - val_accuracy: 0.5906\n",
            "Epoch 2/10\n",
            "13/13 [==============================] - 14s 1s/step - loss: 0.7849 - accuracy: 0.5769 - val_loss: 0.6700 - val_accuracy: 0.5906\n",
            "Epoch 3/10\n",
            "13/13 [==============================] - 15s 1s/step - loss: 0.7546 - accuracy: 0.6490 - val_loss: 0.6699 - val_accuracy: 0.6040\n",
            "Epoch 4/10\n",
            "13/13 [==============================] - 15s 1s/step - loss: 0.7440 - accuracy: 0.6514 - val_loss: 0.6711 - val_accuracy: 0.6040\n",
            "Epoch 5/10\n",
            "13/13 [==============================] - 14s 1s/step - loss: 0.7195 - accuracy: 0.6899 - val_loss: 0.6709 - val_accuracy: 0.6107\n",
            "Epoch 6/10\n",
            "13/13 [==============================] - 13s 1s/step - loss: 0.7041 - accuracy: 0.7260 - val_loss: 0.6703 - val_accuracy: 0.5772\n",
            "Epoch 7/10\n",
            "13/13 [==============================] - 14s 1s/step - loss: 0.6946 - accuracy: 0.7067 - val_loss: 0.6704 - val_accuracy: 0.6107\n",
            "Epoch 8/10\n",
            "13/13 [==============================] - 14s 1s/step - loss: 0.6835 - accuracy: 0.7332 - val_loss: 0.6713 - val_accuracy: 0.5973\n",
            "Epoch 9/10\n",
            "13/13 [==============================] - 14s 1s/step - loss: 0.6712 - accuracy: 0.7476 - val_loss: 0.6727 - val_accuracy: 0.5772\n",
            "Epoch 10/10\n",
            "13/13 [==============================] - 14s 1s/step - loss: 0.6571 - accuracy: 0.7476 - val_loss: 0.6718 - val_accuracy: 0.5973\n"
          ],
          "name": "stdout"
        },
        {
          "output_type": "stream",
          "text": [
            "\r 32%|███▏      | 9/28 [26:47<57:37, 181.97s/it]"
          ],
          "name": "stderr"
        },
        {
          "output_type": "stream",
          "text": [
            "Downloading data from https://storage.googleapis.com/keras-applications/efficientnetb6_notop.h5\n",
            "165240832/165234480 [==============================] - 1s 0us/step\n",
            "Epoch 1/10\n",
            "13/13 [==============================] - 33s 2s/step - loss: 0.8145 - accuracy: 0.5000 - val_loss: 0.7080 - val_accuracy: 0.4832\n",
            "Epoch 2/10\n",
            "13/13 [==============================] - 15s 1s/step - loss: 0.7818 - accuracy: 0.5865 - val_loss: 0.7002 - val_accuracy: 0.5235\n",
            "Epoch 3/10\n",
            "13/13 [==============================] - 14s 1s/step - loss: 0.7545 - accuracy: 0.6514 - val_loss: 0.6995 - val_accuracy: 0.5302\n",
            "Epoch 4/10\n",
            "13/13 [==============================] - 14s 1s/step - loss: 0.7383 - accuracy: 0.6971 - val_loss: 0.6984 - val_accuracy: 0.4966\n",
            "Epoch 5/10\n",
            "13/13 [==============================] - 14s 1s/step - loss: 0.7223 - accuracy: 0.7236 - val_loss: 0.6914 - val_accuracy: 0.5436\n",
            "Epoch 6/10\n",
            "13/13 [==============================] - 15s 1s/step - loss: 0.7078 - accuracy: 0.7500 - val_loss: 0.6950 - val_accuracy: 0.5302\n",
            "Epoch 7/10\n",
            "13/13 [==============================] - 15s 1s/step - loss: 0.7009 - accuracy: 0.7308 - val_loss: 0.6974 - val_accuracy: 0.5168\n",
            "Epoch 8/10\n",
            "13/13 [==============================] - 15s 1s/step - loss: 0.6894 - accuracy: 0.7380 - val_loss: 0.6946 - val_accuracy: 0.5302\n",
            "Epoch 9/10\n",
            "13/13 [==============================] - 15s 1s/step - loss: 0.6717 - accuracy: 0.7548 - val_loss: 0.6937 - val_accuracy: 0.5436\n",
            "Epoch 10/10\n",
            "13/13 [==============================] - 14s 1s/step - loss: 0.6618 - accuracy: 0.7620 - val_loss: 0.6951 - val_accuracy: 0.5302\n"
          ],
          "name": "stdout"
        },
        {
          "output_type": "stream",
          "text": [
            "\r 36%|███▌      | 10/28 [29:38<53:38, 178.81s/it]"
          ],
          "name": "stderr"
        },
        {
          "output_type": "stream",
          "text": [
            "Downloading data from https://storage.googleapis.com/keras-applications/efficientnetb7_notop.h5\n",
            "258080768/258076736 [==============================] - 1s 0us/step\n",
            "Epoch 1/10\n",
            "13/13 [==============================] - 40s 2s/step - loss: 0.8320 - accuracy: 0.5120 - val_loss: 0.6757 - val_accuracy: 0.5638\n",
            "Epoch 2/10\n",
            "13/13 [==============================] - 16s 1s/step - loss: 0.7772 - accuracy: 0.6034 - val_loss: 0.6702 - val_accuracy: 0.5638\n",
            "Epoch 3/10\n",
            "13/13 [==============================] - 16s 1s/step - loss: 0.7595 - accuracy: 0.6154 - val_loss: 0.6664 - val_accuracy: 0.5638\n",
            "Epoch 4/10\n",
            "13/13 [==============================] - 16s 1s/step - loss: 0.7401 - accuracy: 0.6683 - val_loss: 0.6648 - val_accuracy: 0.5906\n",
            "Epoch 5/10\n",
            "13/13 [==============================] - 17s 1s/step - loss: 0.7210 - accuracy: 0.6755 - val_loss: 0.6620 - val_accuracy: 0.5839\n",
            "Epoch 6/10\n",
            "13/13 [==============================] - 16s 1s/step - loss: 0.7003 - accuracy: 0.7212 - val_loss: 0.6639 - val_accuracy: 0.6040\n",
            "Epoch 7/10\n",
            "13/13 [==============================] - 16s 1s/step - loss: 0.6817 - accuracy: 0.7452 - val_loss: 0.6630 - val_accuracy: 0.5839\n",
            "Epoch 8/10\n",
            "13/13 [==============================] - 16s 1s/step - loss: 0.6705 - accuracy: 0.7620 - val_loss: 0.6634 - val_accuracy: 0.5973\n",
            "Epoch 9/10\n",
            "13/13 [==============================] - 17s 1s/step - loss: 0.6553 - accuracy: 0.7500 - val_loss: 0.6638 - val_accuracy: 0.5973\n",
            "Epoch 10/10\n",
            "13/13 [==============================] - 16s 1s/step - loss: 0.6505 - accuracy: 0.7740 - val_loss: 0.6651 - val_accuracy: 0.5906\n"
          ],
          "name": "stdout"
        },
        {
          "output_type": "stream",
          "text": [
            "\r 39%|███▉      | 11/28 [33:25<54:45, 193.29s/it]"
          ],
          "name": "stderr"
        },
        {
          "output_type": "stream",
          "text": [
            "Downloading data from https://storage.googleapis.com/tensorflow/keras-applications/inception_resnet_v2/inception_resnet_v2_weights_tf_dim_ordering_tf_kernels_notop.h5\n",
            "219062272/219055592 [==============================] - 1s 0us/step\n",
            "Epoch 1/10\n",
            "13/13 [==============================] - 29s 2s/step - loss: 68.8764 - accuracy: 0.5024 - val_loss: 39.9201 - val_accuracy: 0.6107\n",
            "Epoch 2/10\n",
            "13/13 [==============================] - 15s 1s/step - loss: 47.7463 - accuracy: 0.5024 - val_loss: 29.8249 - val_accuracy: 0.3893\n",
            "Epoch 3/10\n",
            "13/13 [==============================] - 14s 1s/step - loss: 40.2525 - accuracy: 0.5024 - val_loss: 37.9370 - val_accuracy: 0.6107\n",
            "Epoch 4/10\n",
            "13/13 [==============================] - 14s 1s/step - loss: 44.5652 - accuracy: 0.5024 - val_loss: 24.6132 - val_accuracy: 0.3893\n",
            "Epoch 5/10\n",
            "13/13 [==============================] - 14s 1s/step - loss: 37.3831 - accuracy: 0.5096 - val_loss: 39.7730 - val_accuracy: 0.6107\n",
            "Epoch 6/10\n",
            "13/13 [==============================] - 14s 1s/step - loss: 44.8168 - accuracy: 0.5024 - val_loss: 22.4365 - val_accuracy: 0.3893\n",
            "Epoch 7/10\n",
            "13/13 [==============================] - 15s 1s/step - loss: 31.4576 - accuracy: 0.5337 - val_loss: 21.8209 - val_accuracy: 0.6107\n",
            "Epoch 8/10\n",
            "13/13 [==============================] - 14s 1s/step - loss: 42.2851 - accuracy: 0.5024 - val_loss: 90.2912 - val_accuracy: 0.3893\n",
            "Epoch 9/10\n",
            "13/13 [==============================] - 14s 1s/step - loss: 43.5886 - accuracy: 0.4880 - val_loss: 35.8745 - val_accuracy: 0.3893\n",
            "Epoch 10/10\n",
            "13/13 [==============================] - 14s 1s/step - loss: 40.1986 - accuracy: 0.4952 - val_loss: 37.3761 - val_accuracy: 0.6107\n"
          ],
          "name": "stdout"
        },
        {
          "output_type": "stream",
          "text": [
            "\r 43%|████▎     | 12/28 [37:05<53:39, 201.21s/it]"
          ],
          "name": "stderr"
        },
        {
          "output_type": "stream",
          "text": [
            "Downloading data from https://storage.googleapis.com/tensorflow/keras-applications/inception_v3/inception_v3_weights_tf_dim_ordering_tf_kernels_notop.h5\n",
            "87916544/87910968 [==============================] - 0s 0us/step\n",
            "Epoch 1/10\n",
            "13/13 [==============================] - 20s 1s/step - loss: 5.3370 - accuracy: 0.5192 - val_loss: 3.7090 - val_accuracy: 0.4430\n",
            "Epoch 2/10\n",
            "13/13 [==============================] - 12s 1s/step - loss: 3.1711 - accuracy: 0.5361 - val_loss: 3.3255 - val_accuracy: 0.5570\n",
            "Epoch 3/10\n",
            "13/13 [==============================] - 12s 966ms/step - loss: 3.0802 - accuracy: 0.5577 - val_loss: 3.1162 - val_accuracy: 0.5436\n",
            "Epoch 4/10\n",
            "13/13 [==============================] - 12s 971ms/step - loss: 2.3844 - accuracy: 0.5793 - val_loss: 4.1900 - val_accuracy: 0.3893\n",
            "Epoch 5/10\n",
            "13/13 [==============================] - 12s 958ms/step - loss: 2.9082 - accuracy: 0.5986 - val_loss: 2.8695 - val_accuracy: 0.5570\n",
            "Epoch 6/10\n",
            "13/13 [==============================] - 12s 1s/step - loss: 2.2750 - accuracy: 0.5938 - val_loss: 4.3222 - val_accuracy: 0.3758\n",
            "Epoch 7/10\n",
            "13/13 [==============================] - 12s 1s/step - loss: 2.3626 - accuracy: 0.6202 - val_loss: 2.7793 - val_accuracy: 0.5436\n",
            "Epoch 8/10\n",
            "13/13 [==============================] - 12s 984ms/step - loss: 2.1777 - accuracy: 0.6058 - val_loss: 3.9622 - val_accuracy: 0.3557\n",
            "Epoch 9/10\n",
            "13/13 [==============================] - 12s 967ms/step - loss: 2.0669 - accuracy: 0.6250 - val_loss: 2.7648 - val_accuracy: 0.5503\n",
            "Epoch 10/10\n",
            "13/13 [==============================] - 12s 964ms/step - loss: 2.0390 - accuracy: 0.6154 - val_loss: 3.9541 - val_accuracy: 0.3624\n"
          ],
          "name": "stdout"
        },
        {
          "output_type": "stream",
          "text": [
            "\r 46%|████▋     | 13/28 [39:15<45:00, 180.02s/it]"
          ],
          "name": "stderr"
        },
        {
          "output_type": "stream",
          "text": [
            "WARNING:tensorflow:`input_shape` is undefined or non-square, or `rows` is not in [128, 160, 192, 224]. Weights for input shape (224, 224) will be loaded as the default.\n",
            "Downloading data from https://storage.googleapis.com/tensorflow/keras-applications/mobilenet/mobilenet_1_0_224_tf_no_top.h5\n",
            "17227776/17225924 [==============================] - 0s 0us/step\n",
            "Epoch 1/10\n",
            "13/13 [==============================] - 14s 1s/step - loss: 0.9378 - accuracy: 0.5216 - val_loss: 0.7890 - val_accuracy: 0.4631\n",
            "Epoch 2/10\n",
            "13/13 [==============================] - 11s 940ms/step - loss: 0.8383 - accuracy: 0.5625 - val_loss: 0.7824 - val_accuracy: 0.4698\n",
            "Epoch 3/10\n",
            "13/13 [==============================] - 11s 930ms/step - loss: 0.7958 - accuracy: 0.5865 - val_loss: 0.7810 - val_accuracy: 0.4631\n",
            "Epoch 4/10\n",
            "13/13 [==============================] - 11s 911ms/step - loss: 0.7614 - accuracy: 0.6178 - val_loss: 0.7816 - val_accuracy: 0.4832\n",
            "Epoch 5/10\n",
            "13/13 [==============================] - 11s 927ms/step - loss: 0.7322 - accuracy: 0.6274 - val_loss: 0.7832 - val_accuracy: 0.4698\n",
            "Epoch 6/10\n",
            "13/13 [==============================] - 11s 917ms/step - loss: 0.7069 - accuracy: 0.6611 - val_loss: 0.7852 - val_accuracy: 0.4899\n",
            "Epoch 7/10\n",
            "13/13 [==============================] - 10s 864ms/step - loss: 0.6844 - accuracy: 0.6731 - val_loss: 0.7876 - val_accuracy: 0.4832\n",
            "Epoch 8/10\n",
            "13/13 [==============================] - 10s 864ms/step - loss: 0.6639 - accuracy: 0.6947 - val_loss: 0.7901 - val_accuracy: 0.4765\n",
            "Epoch 9/10\n",
            "13/13 [==============================] - 10s 860ms/step - loss: 0.6452 - accuracy: 0.7091 - val_loss: 0.7927 - val_accuracy: 0.4765\n",
            "Epoch 10/10\n",
            "13/13 [==============================] - 11s 898ms/step - loss: 0.6279 - accuracy: 0.7188 - val_loss: 0.7953 - val_accuracy: 0.4698\n"
          ],
          "name": "stdout"
        },
        {
          "output_type": "stream",
          "text": [
            "\r 50%|█████     | 14/28 [41:09<37:22, 160.21s/it]"
          ],
          "name": "stderr"
        },
        {
          "output_type": "stream",
          "text": [
            "WARNING:tensorflow:`input_shape` is undefined or non-square, or `rows` is not in [96, 128, 160, 192, 224]. Weights for input shape (224, 224) will be loaded as the default.\n",
            "Downloading data from https://storage.googleapis.com/tensorflow/keras-applications/mobilenet_v2/mobilenet_v2_weights_tf_dim_ordering_tf_kernels_1.0_224_no_top.h5\n",
            "9412608/9406464 [==============================] - 0s 0us/step\n",
            "Epoch 1/10\n",
            "13/13 [==============================] - 16s 1s/step - loss: 0.9523 - accuracy: 0.4760 - val_loss: 0.7380 - val_accuracy: 0.4966\n",
            "Epoch 2/10\n",
            "13/13 [==============================] - 11s 908ms/step - loss: 0.8317 - accuracy: 0.5264 - val_loss: 0.7236 - val_accuracy: 0.5503\n",
            "Epoch 3/10\n",
            "13/13 [==============================] - 11s 898ms/step - loss: 0.7867 - accuracy: 0.5913 - val_loss: 0.7156 - val_accuracy: 0.5436\n",
            "Epoch 4/10\n",
            "13/13 [==============================] - 11s 902ms/step - loss: 0.7501 - accuracy: 0.6274 - val_loss: 0.7112 - val_accuracy: 0.5503\n",
            "Epoch 5/10\n",
            "13/13 [==============================] - 11s 894ms/step - loss: 0.7193 - accuracy: 0.6587 - val_loss: 0.7091 - val_accuracy: 0.5570\n",
            "Epoch 6/10\n",
            "13/13 [==============================] - 12s 958ms/step - loss: 0.6927 - accuracy: 0.6827 - val_loss: 0.7085 - val_accuracy: 0.5570\n",
            "Epoch 7/10\n",
            "13/13 [==============================] - 12s 962ms/step - loss: 0.6692 - accuracy: 0.6875 - val_loss: 0.7090 - val_accuracy: 0.5906\n",
            "Epoch 8/10\n",
            "13/13 [==============================] - 11s 906ms/step - loss: 0.6481 - accuracy: 0.7067 - val_loss: 0.7103 - val_accuracy: 0.6040\n",
            "Epoch 9/10\n",
            "13/13 [==============================] - 11s 901ms/step - loss: 0.6288 - accuracy: 0.7188 - val_loss: 0.7122 - val_accuracy: 0.6040\n",
            "Epoch 10/10\n",
            "13/13 [==============================] - 11s 893ms/step - loss: 0.6111 - accuracy: 0.7356 - val_loss: 0.7145 - val_accuracy: 0.5906\n"
          ],
          "name": "stdout"
        },
        {
          "output_type": "stream",
          "text": [
            "\r 54%|█████▎    | 15/28 [43:06<31:54, 147.26s/it]"
          ],
          "name": "stderr"
        },
        {
          "output_type": "stream",
          "text": [
            "WARNING:tensorflow:`input_shape` is undefined or non-square, or `rows` is not 224. Weights for input shape (224, 224) will be loaded as the default.\n",
            "Downloading data from https://storage.googleapis.com/tensorflow/keras-applications/mobilenet_v3/weights_mobilenet_v3_large_224_1.0_float_no_top.h5\n",
            "17612800/17605208 [==============================] - 0s 0us/step\n",
            "Epoch 1/10\n",
            "13/13 [==============================] - 17s 1s/step - loss: 0.8639 - accuracy: 0.5409 - val_loss: 0.7237 - val_accuracy: 0.5839\n",
            "Epoch 2/10\n",
            "13/13 [==============================] - 12s 965ms/step - loss: 0.8021 - accuracy: 0.5697 - val_loss: 0.7208 - val_accuracy: 0.5973\n",
            "Epoch 3/10\n",
            "13/13 [==============================] - 11s 922ms/step - loss: 0.7721 - accuracy: 0.6058 - val_loss: 0.7209 - val_accuracy: 0.5772\n",
            "Epoch 4/10\n",
            "13/13 [==============================] - 11s 897ms/step - loss: 0.7483 - accuracy: 0.6202 - val_loss: 0.7214 - val_accuracy: 0.5839\n",
            "Epoch 5/10\n",
            "13/13 [==============================] - 11s 900ms/step - loss: 0.7276 - accuracy: 0.6466 - val_loss: 0.7227 - val_accuracy: 0.5772\n",
            "Epoch 6/10\n",
            "13/13 [==============================] - 11s 897ms/step - loss: 0.7090 - accuracy: 0.6779 - val_loss: 0.7248 - val_accuracy: 0.5839\n",
            "Epoch 7/10\n",
            "13/13 [==============================] - 12s 961ms/step - loss: 0.6919 - accuracy: 0.6875 - val_loss: 0.7273 - val_accuracy: 0.6107\n",
            "Epoch 8/10\n",
            "13/13 [==============================] - 12s 981ms/step - loss: 0.6761 - accuracy: 0.6947 - val_loss: 0.7303 - val_accuracy: 0.6174\n",
            "Epoch 9/10\n",
            "13/13 [==============================] - 11s 947ms/step - loss: 0.6613 - accuracy: 0.6947 - val_loss: 0.7335 - val_accuracy: 0.6174\n",
            "Epoch 10/10\n",
            "13/13 [==============================] - 12s 977ms/step - loss: 0.6473 - accuracy: 0.7019 - val_loss: 0.7368 - val_accuracy: 0.6107\n"
          ],
          "name": "stdout"
        },
        {
          "output_type": "stream",
          "text": [
            "\r 57%|█████▋    | 16/28 [45:34<29:27, 147.28s/it]"
          ],
          "name": "stderr"
        },
        {
          "output_type": "stream",
          "text": [
            "WARNING:tensorflow:`input_shape` is undefined or non-square, or `rows` is not 224. Weights for input shape (224, 224) will be loaded as the default.\n",
            "Downloading data from https://storage.googleapis.com/tensorflow/keras-applications/mobilenet_v3/weights_mobilenet_v3_small_224_1.0_float_no_top.h5\n",
            "6701056/6698480 [==============================] - 0s 0us/step\n",
            "Epoch 1/10\n",
            "13/13 [==============================] - 17s 1s/step - loss: 0.8911 - accuracy: 0.5192 - val_loss: 0.7368 - val_accuracy: 0.4430\n",
            "Epoch 2/10\n",
            "13/13 [==============================] - 11s 911ms/step - loss: 0.8368 - accuracy: 0.5288 - val_loss: 0.7139 - val_accuracy: 0.4899\n",
            "Epoch 3/10\n",
            "13/13 [==============================] - 12s 959ms/step - loss: 0.8153 - accuracy: 0.5673 - val_loss: 0.7006 - val_accuracy: 0.5034\n",
            "Epoch 4/10\n",
            "13/13 [==============================] - 11s 956ms/step - loss: 0.7981 - accuracy: 0.5793 - val_loss: 0.6919 - val_accuracy: 0.5168\n",
            "Epoch 5/10\n",
            "13/13 [==============================] - 11s 891ms/step - loss: 0.7831 - accuracy: 0.5793 - val_loss: 0.6859 - val_accuracy: 0.5369\n",
            "Epoch 6/10\n",
            "13/13 [==============================] - 11s 891ms/step - loss: 0.7697 - accuracy: 0.6010 - val_loss: 0.6816 - val_accuracy: 0.5638\n",
            "Epoch 7/10\n",
            "13/13 [==============================] - 11s 882ms/step - loss: 0.7573 - accuracy: 0.6130 - val_loss: 0.6785 - val_accuracy: 0.5906\n",
            "Epoch 8/10\n",
            "13/13 [==============================] - 11s 904ms/step - loss: 0.7459 - accuracy: 0.6466 - val_loss: 0.6763 - val_accuracy: 0.5973\n",
            "Epoch 9/10\n",
            "13/13 [==============================] - 11s 955ms/step - loss: 0.7352 - accuracy: 0.6659 - val_loss: 0.6745 - val_accuracy: 0.5973\n",
            "Epoch 10/10\n",
            "13/13 [==============================] - 12s 970ms/step - loss: 0.7252 - accuracy: 0.6827 - val_loss: 0.6733 - val_accuracy: 0.5973\n"
          ],
          "name": "stdout"
        },
        {
          "output_type": "stream",
          "text": [
            "\r 61%|██████    | 17/28 [47:33<25:28, 138.95s/it]"
          ],
          "name": "stderr"
        },
        {
          "output_type": "stream",
          "text": [
            "Downloading data from https://storage.googleapis.com/tensorflow/keras-applications/nasnet/NASNet-mobile-no-top.h5\n",
            "19996672/19993432 [==============================] - 0s 0us/step\n",
            "Epoch 1/10\n",
            "13/13 [==============================] - 29s 1s/step - loss: 1.2430 - accuracy: 0.4856 - val_loss: 1.1816 - val_accuracy: 0.4765\n",
            "Epoch 2/10\n",
            "13/13 [==============================] - 13s 1s/step - loss: 1.0675 - accuracy: 0.5192 - val_loss: 1.1251 - val_accuracy: 0.4631\n",
            "Epoch 3/10\n",
            "13/13 [==============================] - 14s 1s/step - loss: 0.9807 - accuracy: 0.5409 - val_loss: 1.0859 - val_accuracy: 0.4765\n",
            "Epoch 4/10\n",
            "13/13 [==============================] - 13s 1s/step - loss: 0.9204 - accuracy: 0.5529 - val_loss: 1.0463 - val_accuracy: 0.4631\n",
            "Epoch 5/10\n",
            "13/13 [==============================] - 13s 1s/step - loss: 0.8736 - accuracy: 0.5865 - val_loss: 1.0092 - val_accuracy: 0.4631\n",
            "Epoch 6/10\n",
            "13/13 [==============================] - 12s 1s/step - loss: 0.8381 - accuracy: 0.5986 - val_loss: 0.9794 - val_accuracy: 0.4698\n",
            "Epoch 7/10\n",
            "13/13 [==============================] - 13s 1s/step - loss: 0.8118 - accuracy: 0.6082 - val_loss: 0.9567 - val_accuracy: 0.4765\n",
            "Epoch 8/10\n",
            "13/13 [==============================] - 13s 1s/step - loss: 0.7912 - accuracy: 0.6226 - val_loss: 0.9394 - val_accuracy: 0.4832\n",
            "Epoch 9/10\n",
            "13/13 [==============================] - 13s 1s/step - loss: 0.7739 - accuracy: 0.6394 - val_loss: 0.9257 - val_accuracy: 0.4765\n",
            "Epoch 10/10\n",
            "13/13 [==============================] - 13s 1s/step - loss: 0.7589 - accuracy: 0.6466 - val_loss: 0.9148 - val_accuracy: 0.4899\n"
          ],
          "name": "stdout"
        },
        {
          "output_type": "stream",
          "text": [
            "\r 68%|██████▊   | 19/28 [50:13<18:10, 121.16s/it]"
          ],
          "name": "stderr"
        },
        {
          "output_type": "stream",
          "text": [
            "Downloading data from https://storage.googleapis.com/tensorflow/keras-applications/resnet/resnet101_weights_tf_dim_ordering_tf_kernels_notop.h5\n",
            "171450368/171446536 [==============================] - 1s 0us/step\n",
            "Epoch 1/10\n",
            "13/13 [==============================] - 22s 1s/step - loss: 0.9590 - accuracy: 0.4832 - val_loss: 0.7098 - val_accuracy: 0.5436\n",
            "Epoch 2/10\n",
            "13/13 [==============================] - 14s 1s/step - loss: 0.8181 - accuracy: 0.5625 - val_loss: 0.7128 - val_accuracy: 0.5503\n",
            "Epoch 3/10\n",
            "13/13 [==============================] - 13s 1s/step - loss: 0.7541 - accuracy: 0.6130 - val_loss: 0.7148 - val_accuracy: 0.5436\n",
            "Epoch 4/10\n",
            "13/13 [==============================] - 14s 1s/step - loss: 0.7058 - accuracy: 0.6611 - val_loss: 0.7176 - val_accuracy: 0.5705\n",
            "Epoch 5/10\n",
            "13/13 [==============================] - 13s 1s/step - loss: 0.6649 - accuracy: 0.7019 - val_loss: 0.7215 - val_accuracy: 0.5772\n",
            "Epoch 6/10\n",
            "13/13 [==============================] - 13s 1s/step - loss: 0.6288 - accuracy: 0.7356 - val_loss: 0.7262 - val_accuracy: 0.5839\n",
            "Epoch 7/10\n",
            "13/13 [==============================] - 13s 1s/step - loss: 0.5964 - accuracy: 0.7692 - val_loss: 0.7317 - val_accuracy: 0.5705\n",
            "Epoch 8/10\n",
            "13/13 [==============================] - 13s 1s/step - loss: 0.5671 - accuracy: 0.7933 - val_loss: 0.7378 - val_accuracy: 0.5638\n",
            "Epoch 9/10\n",
            "13/13 [==============================] - 14s 1s/step - loss: 0.5404 - accuracy: 0.8101 - val_loss: 0.7445 - val_accuracy: 0.5772\n",
            "Epoch 10/10\n",
            "13/13 [==============================] - 13s 1s/step - loss: 0.5159 - accuracy: 0.8149 - val_loss: 0.7518 - val_accuracy: 0.5906\n"
          ],
          "name": "stdout"
        },
        {
          "output_type": "stream",
          "text": [
            "\r 71%|███████▏  | 20/28 [52:37<17:06, 128.26s/it]"
          ],
          "name": "stderr"
        },
        {
          "output_type": "stream",
          "text": [
            "Downloading data from https://storage.googleapis.com/tensorflow/keras-applications/resnet/resnet101v2_weights_tf_dim_ordering_tf_kernels_notop.h5\n",
            "171319296/171317808 [==============================] - 1s 0us/step\n",
            "Epoch 1/10\n",
            "13/13 [==============================] - 20s 1s/step - loss: 66.3736 - accuracy: 0.5216 - val_loss: 43.3871 - val_accuracy: 0.5302\n",
            "Epoch 2/10\n",
            "13/13 [==============================] - 13s 1s/step - loss: 49.2242 - accuracy: 0.4904 - val_loss: 38.7971 - val_accuracy: 0.5302\n",
            "Epoch 3/10\n",
            "13/13 [==============================] - 13s 1s/step - loss: 44.0077 - accuracy: 0.4904 - val_loss: 36.1725 - val_accuracy: 0.5503\n",
            "Epoch 4/10\n",
            "13/13 [==============================] - 13s 1s/step - loss: 45.7754 - accuracy: 0.4928 - val_loss: 33.7186 - val_accuracy: 0.5369\n",
            "Epoch 5/10\n",
            "13/13 [==============================] - 13s 1s/step - loss: 41.2919 - accuracy: 0.5096 - val_loss: 37.1361 - val_accuracy: 0.5503\n",
            "Epoch 6/10\n",
            "13/13 [==============================] - 13s 1s/step - loss: 40.0671 - accuracy: 0.5168 - val_loss: 38.1149 - val_accuracy: 0.5839\n",
            "Epoch 7/10\n",
            "13/13 [==============================] - 13s 1s/step - loss: 41.7127 - accuracy: 0.5577 - val_loss: 43.3726 - val_accuracy: 0.3826\n",
            "Epoch 8/10\n",
            "13/13 [==============================] - 13s 1s/step - loss: 42.4363 - accuracy: 0.5000 - val_loss: 32.7496 - val_accuracy: 0.5570\n",
            "Epoch 9/10\n",
            "13/13 [==============================] - 13s 1s/step - loss: 40.7109 - accuracy: 0.5649 - val_loss: 40.6687 - val_accuracy: 0.3758\n",
            "Epoch 10/10\n",
            "13/13 [==============================] - 13s 1s/step - loss: 40.3233 - accuracy: 0.5144 - val_loss: 42.4781 - val_accuracy: 0.6174\n"
          ],
          "name": "stdout"
        },
        {
          "output_type": "stream",
          "text": [
            "\r 75%|███████▌  | 21/28 [55:09<15:46, 135.22s/it]"
          ],
          "name": "stderr"
        },
        {
          "output_type": "stream",
          "text": [
            "Downloading data from https://storage.googleapis.com/tensorflow/keras-applications/resnet/resnet152_weights_tf_dim_ordering_tf_kernels_notop.h5\n",
            "234700800/234698864 [==============================] - 1s 0us/step\n",
            "Epoch 1/10\n",
            "13/13 [==============================] - 26s 2s/step - loss: 0.9767 - accuracy: 0.5072 - val_loss: 0.7465 - val_accuracy: 0.5034\n",
            "Epoch 2/10\n",
            "13/13 [==============================] - 15s 1s/step - loss: 0.8211 - accuracy: 0.5649 - val_loss: 0.7401 - val_accuracy: 0.5235\n",
            "Epoch 3/10\n",
            "13/13 [==============================] - 15s 1s/step - loss: 0.7549 - accuracy: 0.6322 - val_loss: 0.7452 - val_accuracy: 0.5101\n",
            "Epoch 4/10\n",
            "13/13 [==============================] - 14s 1s/step - loss: 0.7021 - accuracy: 0.6755 - val_loss: 0.7549 - val_accuracy: 0.5101\n",
            "Epoch 5/10\n",
            "13/13 [==============================] - 14s 1s/step - loss: 0.6573 - accuracy: 0.7019 - val_loss: 0.7665 - val_accuracy: 0.5235\n",
            "Epoch 6/10\n",
            "13/13 [==============================] - 14s 1s/step - loss: 0.6181 - accuracy: 0.7476 - val_loss: 0.7787 - val_accuracy: 0.5168\n",
            "Epoch 7/10\n",
            "13/13 [==============================] - 14s 1s/step - loss: 0.5834 - accuracy: 0.7812 - val_loss: 0.7911 - val_accuracy: 0.5168\n",
            "Epoch 8/10\n",
            "13/13 [==============================] - 15s 1s/step - loss: 0.5523 - accuracy: 0.7933 - val_loss: 0.8036 - val_accuracy: 0.5168\n",
            "Epoch 9/10\n",
            "13/13 [==============================] - 14s 1s/step - loss: 0.5243 - accuracy: 0.8005 - val_loss: 0.8159 - val_accuracy: 0.5168\n",
            "Epoch 10/10\n",
            "13/13 [==============================] - 14s 1s/step - loss: 0.4989 - accuracy: 0.8173 - val_loss: 0.8281 - val_accuracy: 0.5101\n"
          ],
          "name": "stdout"
        },
        {
          "output_type": "stream",
          "text": [
            "\r 79%|███████▊  | 22/28 [58:46<15:58, 159.81s/it]"
          ],
          "name": "stderr"
        },
        {
          "output_type": "stream",
          "text": [
            "Downloading data from https://storage.googleapis.com/tensorflow/keras-applications/resnet/resnet152v2_weights_tf_dim_ordering_tf_kernels_notop.h5\n",
            "234553344/234545216 [==============================] - 1s 0us/step\n",
            "Epoch 1/10\n",
            "13/13 [==============================] - 24s 1s/step - loss: 148.3700 - accuracy: 0.5072 - val_loss: 85.3215 - val_accuracy: 0.6107\n",
            "Epoch 2/10\n",
            "13/13 [==============================] - 15s 1s/step - loss: 92.3586 - accuracy: 0.5072 - val_loss: 101.5822 - val_accuracy: 0.3893\n",
            "Epoch 3/10\n",
            "13/13 [==============================] - 14s 1s/step - loss: 92.1895 - accuracy: 0.4952 - val_loss: 66.3853 - val_accuracy: 0.6107\n",
            "Epoch 4/10\n",
            "13/13 [==============================] - 14s 1s/step - loss: 81.8197 - accuracy: 0.5264 - val_loss: 35.1626 - val_accuracy: 0.3960\n",
            "Epoch 5/10\n",
            "13/13 [==============================] - 14s 1s/step - loss: 89.2540 - accuracy: 0.5120 - val_loss: 70.0782 - val_accuracy: 0.6107\n",
            "Epoch 6/10\n",
            "13/13 [==============================] - 14s 1s/step - loss: 83.8374 - accuracy: 0.5168 - val_loss: 40.2167 - val_accuracy: 0.3758\n",
            "Epoch 7/10\n",
            "13/13 [==============================] - 15s 1s/step - loss: 88.7894 - accuracy: 0.5048 - val_loss: 74.0376 - val_accuracy: 0.6107\n",
            "Epoch 8/10\n",
            "13/13 [==============================] - 14s 1s/step - loss: 83.2116 - accuracy: 0.5096 - val_loss: 81.2104 - val_accuracy: 0.3893\n",
            "Epoch 9/10\n",
            "13/13 [==============================] - 14s 1s/step - loss: 89.0013 - accuracy: 0.4976 - val_loss: 60.7804 - val_accuracy: 0.6040\n",
            "Epoch 10/10\n",
            "13/13 [==============================] - 14s 1s/step - loss: 79.4739 - accuracy: 0.5120 - val_loss: 73.9393 - val_accuracy: 0.3826\n"
          ],
          "name": "stdout"
        },
        {
          "output_type": "stream",
          "text": [
            "\r 82%|████████▏ | 23/28 [1:01:25<13:17, 159.43s/it]"
          ],
          "name": "stderr"
        },
        {
          "output_type": "stream",
          "text": [
            "Downloading data from https://storage.googleapis.com/tensorflow/keras-applications/resnet/resnet50_weights_tf_dim_ordering_tf_kernels_notop.h5\n",
            "94773248/94765736 [==============================] - 1s 0us/step\n",
            "Epoch 1/10\n",
            "13/13 [==============================] - 17s 1s/step - loss: 0.9095 - accuracy: 0.5433 - val_loss: 0.7947 - val_accuracy: 0.4497\n",
            "Epoch 2/10\n",
            "13/13 [==============================] - 12s 986ms/step - loss: 0.7768 - accuracy: 0.6082 - val_loss: 0.7901 - val_accuracy: 0.4631\n",
            "Epoch 3/10\n",
            "13/13 [==============================] - 12s 1s/step - loss: 0.7179 - accuracy: 0.6611 - val_loss: 0.7918 - val_accuracy: 0.4765\n",
            "Epoch 4/10\n",
            "13/13 [==============================] - 12s 1s/step - loss: 0.6738 - accuracy: 0.7115 - val_loss: 0.7973 - val_accuracy: 0.4631\n",
            "Epoch 5/10\n",
            "13/13 [==============================] - 12s 956ms/step - loss: 0.6369 - accuracy: 0.7524 - val_loss: 0.8034 - val_accuracy: 0.4631\n",
            "Epoch 6/10\n",
            "13/13 [==============================] - 11s 947ms/step - loss: 0.6046 - accuracy: 0.7692 - val_loss: 0.8083 - val_accuracy: 0.4899\n",
            "Epoch 7/10\n",
            "13/13 [==============================] - 11s 943ms/step - loss: 0.5756 - accuracy: 0.7812 - val_loss: 0.8116 - val_accuracy: 0.4832\n",
            "Epoch 8/10\n",
            "13/13 [==============================] - 12s 958ms/step - loss: 0.5493 - accuracy: 0.7933 - val_loss: 0.8140 - val_accuracy: 0.4966\n",
            "Epoch 9/10\n",
            "13/13 [==============================] - 12s 1s/step - loss: 0.5252 - accuracy: 0.8173 - val_loss: 0.8159 - val_accuracy: 0.5034\n",
            "Epoch 10/10\n",
            "13/13 [==============================] - 12s 997ms/step - loss: 0.5030 - accuracy: 0.8245 - val_loss: 0.8180 - val_accuracy: 0.5034\n"
          ],
          "name": "stdout"
        },
        {
          "output_type": "stream",
          "text": [
            "\r 86%|████████▌ | 24/28 [1:03:33<10:00, 150.02s/it]"
          ],
          "name": "stderr"
        },
        {
          "output_type": "stream",
          "text": [
            "Downloading data from https://storage.googleapis.com/tensorflow/keras-applications/resnet/resnet50v2_weights_tf_dim_ordering_tf_kernels_notop.h5\n",
            "94674944/94668760 [==============================] - 1s 0us/step\n",
            "Epoch 1/10\n",
            "13/13 [==============================] - 16s 1s/step - loss: 43.8157 - accuracy: 0.5168 - val_loss: 30.9887 - val_accuracy: 0.3826\n",
            "Epoch 2/10\n",
            "13/13 [==============================] - 12s 956ms/step - loss: 25.9469 - accuracy: 0.5288 - val_loss: 20.5634 - val_accuracy: 0.5101\n",
            "Epoch 3/10\n",
            "13/13 [==============================] - 12s 964ms/step - loss: 28.3397 - accuracy: 0.5168 - val_loss: 18.0524 - val_accuracy: 0.4966\n",
            "Epoch 4/10\n",
            "13/13 [==============================] - 12s 1s/step - loss: 24.5897 - accuracy: 0.5192 - val_loss: 44.0104 - val_accuracy: 0.6040\n",
            "Epoch 5/10\n",
            "13/13 [==============================] - 12s 1s/step - loss: 28.4341 - accuracy: 0.5312 - val_loss: 33.5569 - val_accuracy: 0.3758\n",
            "Epoch 6/10\n",
            "13/13 [==============================] - 12s 952ms/step - loss: 25.8747 - accuracy: 0.5385 - val_loss: 33.0999 - val_accuracy: 0.3893\n",
            "Epoch 7/10\n",
            "13/13 [==============================] - 12s 959ms/step - loss: 24.2473 - accuracy: 0.5288 - val_loss: 20.5833 - val_accuracy: 0.3557\n",
            "Epoch 8/10\n",
            "13/13 [==============================] - 12s 953ms/step - loss: 26.4174 - accuracy: 0.5337 - val_loss: 42.2263 - val_accuracy: 0.6040\n",
            "Epoch 9/10\n",
            "13/13 [==============================] - 12s 1s/step - loss: 20.9038 - accuracy: 0.5625 - val_loss: 21.9781 - val_accuracy: 0.3758\n",
            "Epoch 10/10\n",
            "13/13 [==============================] - 12s 1s/step - loss: 25.5005 - accuracy: 0.5337 - val_loss: 42.5670 - val_accuracy: 0.6107\n"
          ],
          "name": "stdout"
        },
        {
          "output_type": "stream",
          "text": [
            "\r 89%|████████▉ | 25/28 [1:05:38<07:07, 142.54s/it]"
          ],
          "name": "stderr"
        },
        {
          "output_type": "stream",
          "text": [
            "Downloading data from https://storage.googleapis.com/tensorflow/keras-applications/vgg16/vgg16_weights_tf_dim_ordering_tf_kernels_notop.h5\n",
            "58892288/58889256 [==============================] - 0s 0us/step\n",
            "Epoch 1/10\n",
            "13/13 [==============================] - 18s 924ms/step - loss: 1.8664 - accuracy: 0.5264 - val_loss: 1.6537 - val_accuracy: 0.5034\n",
            "Epoch 2/10\n",
            "13/13 [==============================] - 11s 905ms/step - loss: 1.5675 - accuracy: 0.5433 - val_loss: 1.5891 - val_accuracy: 0.4966\n",
            "Epoch 3/10\n",
            "13/13 [==============================] - 11s 910ms/step - loss: 1.3950 - accuracy: 0.5697 - val_loss: 1.5322 - val_accuracy: 0.4765\n",
            "Epoch 4/10\n",
            "13/13 [==============================] - 12s 954ms/step - loss: 1.2620 - accuracy: 0.5841 - val_loss: 1.4804 - val_accuracy: 0.4832\n",
            "Epoch 5/10\n",
            "13/13 [==============================] - 12s 976ms/step - loss: 1.1493 - accuracy: 0.6010 - val_loss: 1.4374 - val_accuracy: 0.4966\n",
            "Epoch 6/10\n",
            "13/13 [==============================] - 11s 940ms/step - loss: 1.0532 - accuracy: 0.6082 - val_loss: 1.4063 - val_accuracy: 0.5034\n",
            "Epoch 7/10\n",
            "13/13 [==============================] - 12s 965ms/step - loss: 0.9727 - accuracy: 0.6250 - val_loss: 1.3815 - val_accuracy: 0.5034\n",
            "Epoch 8/10\n",
            "13/13 [==============================] - 12s 977ms/step - loss: 0.9044 - accuracy: 0.6683 - val_loss: 1.3589 - val_accuracy: 0.5034\n",
            "Epoch 9/10\n",
            "13/13 [==============================] - 11s 933ms/step - loss: 0.8466 - accuracy: 0.6827 - val_loss: 1.3370 - val_accuracy: 0.5034\n",
            "Epoch 10/10\n",
            "13/13 [==============================] - 11s 921ms/step - loss: 0.7977 - accuracy: 0.6971 - val_loss: 1.3156 - val_accuracy: 0.5034\n"
          ],
          "name": "stdout"
        },
        {
          "output_type": "stream",
          "text": [
            "\r 93%|█████████▎| 26/28 [1:07:40<04:33, 136.59s/it]"
          ],
          "name": "stderr"
        },
        {
          "output_type": "stream",
          "text": [
            "Downloading data from https://storage.googleapis.com/tensorflow/keras-applications/vgg19/vgg19_weights_tf_dim_ordering_tf_kernels_notop.h5\n",
            "80142336/80134624 [==============================] - 0s 0us/step\n",
            "Epoch 1/10\n",
            "13/13 [==============================] - 13s 1s/step - loss: 2.4019 - accuracy: 0.5385 - val_loss: 1.5440 - val_accuracy: 0.5638\n",
            "Epoch 2/10\n",
            "13/13 [==============================] - 12s 946ms/step - loss: 1.8283 - accuracy: 0.5361 - val_loss: 1.3971 - val_accuracy: 0.5436\n",
            "Epoch 3/10\n",
            "13/13 [==============================] - 12s 995ms/step - loss: 1.6158 - accuracy: 0.5409 - val_loss: 1.3099 - val_accuracy: 0.5168\n",
            "Epoch 4/10\n",
            "13/13 [==============================] - 12s 975ms/step - loss: 1.4699 - accuracy: 0.5505 - val_loss: 1.2449 - val_accuracy: 0.5101\n",
            "Epoch 5/10\n",
            "13/13 [==============================] - 11s 930ms/step - loss: 1.3458 - accuracy: 0.5649 - val_loss: 1.1942 - val_accuracy: 0.5168\n",
            "Epoch 6/10\n",
            "13/13 [==============================] - 11s 930ms/step - loss: 1.2351 - accuracy: 0.5841 - val_loss: 1.1556 - val_accuracy: 0.5101\n",
            "Epoch 7/10\n",
            "13/13 [==============================] - 11s 930ms/step - loss: 1.1361 - accuracy: 0.6010 - val_loss: 1.1262 - val_accuracy: 0.4899\n",
            "Epoch 8/10\n",
            "13/13 [==============================] - 12s 970ms/step - loss: 1.0479 - accuracy: 0.6178 - val_loss: 1.1030 - val_accuracy: 0.4966\n",
            "Epoch 9/10\n",
            "13/13 [==============================] - 12s 999ms/step - loss: 0.9700 - accuracy: 0.6346 - val_loss: 1.0844 - val_accuracy: 0.5168\n",
            "Epoch 10/10\n",
            "13/13 [==============================] - 12s 962ms/step - loss: 0.9018 - accuracy: 0.6442 - val_loss: 1.0691 - val_accuracy: 0.5101\n"
          ],
          "name": "stdout"
        },
        {
          "output_type": "stream",
          "text": [
            "\r 96%|█████████▋| 27/28 [1:10:04<02:18, 138.78s/it]"
          ],
          "name": "stderr"
        },
        {
          "output_type": "stream",
          "text": [
            "Downloading data from https://storage.googleapis.com/tensorflow/keras-applications/xception/xception_weights_tf_dim_ordering_tf_kernels_notop.h5\n",
            "83689472/83683744 [==============================] - 1s 0us/step\n",
            "Epoch 1/10\n",
            "13/13 [==============================] - 18s 1s/step - loss: 1.7572 - accuracy: 0.5457 - val_loss: 1.7532 - val_accuracy: 0.4161\n",
            "Epoch 2/10\n",
            "13/13 [==============================] - 12s 991ms/step - loss: 1.3402 - accuracy: 0.5505 - val_loss: 1.6575 - val_accuracy: 0.4161\n",
            "Epoch 3/10\n",
            "13/13 [==============================] - 12s 953ms/step - loss: 1.2181 - accuracy: 0.5601 - val_loss: 1.6434 - val_accuracy: 0.4161\n",
            "Epoch 4/10\n",
            "13/13 [==============================] - 11s 926ms/step - loss: 1.1297 - accuracy: 0.5841 - val_loss: 1.6506 - val_accuracy: 0.4161\n",
            "Epoch 5/10\n",
            "13/13 [==============================] - 11s 921ms/step - loss: 1.0588 - accuracy: 0.6106 - val_loss: 1.6605 - val_accuracy: 0.4027\n",
            "Epoch 6/10\n",
            "13/13 [==============================] - 11s 932ms/step - loss: 0.9982 - accuracy: 0.6154 - val_loss: 1.6699 - val_accuracy: 0.4094\n",
            "Epoch 7/10\n",
            "13/13 [==============================] - 12s 988ms/step - loss: 0.9448 - accuracy: 0.6394 - val_loss: 1.6793 - val_accuracy: 0.4228\n",
            "Epoch 8/10\n",
            "13/13 [==============================] - 12s 990ms/step - loss: 0.8972 - accuracy: 0.6611 - val_loss: 1.6896 - val_accuracy: 0.4228\n",
            "Epoch 9/10\n",
            "13/13 [==============================] - 11s 921ms/step - loss: 0.8545 - accuracy: 0.6611 - val_loss: 1.6998 - val_accuracy: 0.4295\n",
            "Epoch 10/10\n",
            "13/13 [==============================] - 11s 932ms/step - loss: 0.8163 - accuracy: 0.6755 - val_loss: 1.7066 - val_accuracy: 0.4295\n"
          ],
          "name": "stdout"
        },
        {
          "output_type": "stream",
          "text": [
            "100%|██████████| 28/28 [1:12:09<00:00, 154.62s/it]\n"
          ],
          "name": "stderr"
        }
      ]
    },
    {
      "cell_type": "markdown",
      "metadata": {
        "id": "puD4oGabPKhF"
      },
      "source": [
        "#Model Evaluation"
      ]
    },
    {
      "cell_type": "code",
      "metadata": {
        "colab": {
          "base_uri": "https://localhost:8080/",
          "height": 883
        },
        "id": "dZjj3TCPSknf",
        "outputId": "91bb1067-40e0-421e-bbdf-fef86b2035b0"
      },
      "source": [
        "benchmark_df = pd.DataFrame(model_benchmarks)\n",
        "benchmark_df.sort_values('validation_accuracy', inplace=True) # sort in ascending order of num_model_params column\n",
        "benchmark_df.to_csv('/content/drive/MyDrive/benchmark_df.csv', index=False) # write results to csv file\n",
        "benchmark_df"
      ],
      "execution_count": 26,
      "outputs": [
        {
          "output_type": "execute_result",
          "data": {
            "text/html": [
              "<div>\n",
              "<style scoped>\n",
              "    .dataframe tbody tr th:only-of-type {\n",
              "        vertical-align: middle;\n",
              "    }\n",
              "\n",
              "    .dataframe tbody tr th {\n",
              "        vertical-align: top;\n",
              "    }\n",
              "\n",
              "    .dataframe thead th {\n",
              "        text-align: right;\n",
              "    }\n",
              "</style>\n",
              "<table border=\"1\" class=\"dataframe\">\n",
              "  <thead>\n",
              "    <tr style=\"text-align: right;\">\n",
              "      <th></th>\n",
              "      <th>model_name</th>\n",
              "      <th>num_model_params</th>\n",
              "      <th>validation_accuracy</th>\n",
              "    </tr>\n",
              "  </thead>\n",
              "  <tbody>\n",
              "    <tr>\n",
              "      <th>12</th>\n",
              "      <td>InceptionV3</td>\n",
              "      <td>21802784</td>\n",
              "      <td>0.362416</td>\n",
              "    </tr>\n",
              "    <tr>\n",
              "      <th>21</th>\n",
              "      <td>ResNet152V2</td>\n",
              "      <td>58331648</td>\n",
              "      <td>0.382550</td>\n",
              "    </tr>\n",
              "    <tr>\n",
              "      <th>26</th>\n",
              "      <td>Xception</td>\n",
              "      <td>20861480</td>\n",
              "      <td>0.429530</td>\n",
              "    </tr>\n",
              "    <tr>\n",
              "      <th>13</th>\n",
              "      <td>MobileNet</td>\n",
              "      <td>3228864</td>\n",
              "      <td>0.469799</td>\n",
              "    </tr>\n",
              "    <tr>\n",
              "      <th>17</th>\n",
              "      <td>NASNetMobile</td>\n",
              "      <td>4269716</td>\n",
              "      <td>0.489933</td>\n",
              "    </tr>\n",
              "    <tr>\n",
              "      <th>24</th>\n",
              "      <td>VGG16</td>\n",
              "      <td>14714688</td>\n",
              "      <td>0.503356</td>\n",
              "    </tr>\n",
              "    <tr>\n",
              "      <th>22</th>\n",
              "      <td>ResNet50</td>\n",
              "      <td>23587712</td>\n",
              "      <td>0.503356</td>\n",
              "    </tr>\n",
              "    <tr>\n",
              "      <th>20</th>\n",
              "      <td>ResNet152</td>\n",
              "      <td>58370944</td>\n",
              "      <td>0.510067</td>\n",
              "    </tr>\n",
              "    <tr>\n",
              "      <th>25</th>\n",
              "      <td>VGG19</td>\n",
              "      <td>20024384</td>\n",
              "      <td>0.510067</td>\n",
              "    </tr>\n",
              "    <tr>\n",
              "      <th>9</th>\n",
              "      <td>EfficientNetB6</td>\n",
              "      <td>40960143</td>\n",
              "      <td>0.530201</td>\n",
              "    </tr>\n",
              "    <tr>\n",
              "      <th>0</th>\n",
              "      <td>DenseNet121</td>\n",
              "      <td>7037504</td>\n",
              "      <td>0.543624</td>\n",
              "    </tr>\n",
              "    <tr>\n",
              "      <th>5</th>\n",
              "      <td>EfficientNetB2</td>\n",
              "      <td>7768569</td>\n",
              "      <td>0.557047</td>\n",
              "    </tr>\n",
              "    <tr>\n",
              "      <th>6</th>\n",
              "      <td>EfficientNetB3</td>\n",
              "      <td>10783535</td>\n",
              "      <td>0.557047</td>\n",
              "    </tr>\n",
              "    <tr>\n",
              "      <th>1</th>\n",
              "      <td>DenseNet169</td>\n",
              "      <td>12642880</td>\n",
              "      <td>0.563758</td>\n",
              "    </tr>\n",
              "    <tr>\n",
              "      <th>4</th>\n",
              "      <td>EfficientNetB1</td>\n",
              "      <td>6575239</td>\n",
              "      <td>0.570470</td>\n",
              "    </tr>\n",
              "    <tr>\n",
              "      <th>7</th>\n",
              "      <td>EfficientNetB4</td>\n",
              "      <td>17673823</td>\n",
              "      <td>0.570470</td>\n",
              "    </tr>\n",
              "    <tr>\n",
              "      <th>18</th>\n",
              "      <td>ResNet101</td>\n",
              "      <td>42658176</td>\n",
              "      <td>0.590604</td>\n",
              "    </tr>\n",
              "    <tr>\n",
              "      <th>10</th>\n",
              "      <td>EfficientNetB7</td>\n",
              "      <td>64097687</td>\n",
              "      <td>0.590604</td>\n",
              "    </tr>\n",
              "    <tr>\n",
              "      <th>14</th>\n",
              "      <td>MobileNetV2</td>\n",
              "      <td>2257984</td>\n",
              "      <td>0.590604</td>\n",
              "    </tr>\n",
              "    <tr>\n",
              "      <th>16</th>\n",
              "      <td>MobileNetV3Small</td>\n",
              "      <td>1529968</td>\n",
              "      <td>0.597315</td>\n",
              "    </tr>\n",
              "    <tr>\n",
              "      <th>8</th>\n",
              "      <td>EfficientNetB5</td>\n",
              "      <td>28513527</td>\n",
              "      <td>0.597315</td>\n",
              "    </tr>\n",
              "    <tr>\n",
              "      <th>3</th>\n",
              "      <td>EfficientNetB0</td>\n",
              "      <td>4049571</td>\n",
              "      <td>0.604027</td>\n",
              "    </tr>\n",
              "    <tr>\n",
              "      <th>2</th>\n",
              "      <td>DenseNet201</td>\n",
              "      <td>18321984</td>\n",
              "      <td>0.604027</td>\n",
              "    </tr>\n",
              "    <tr>\n",
              "      <th>11</th>\n",
              "      <td>InceptionResNetV2</td>\n",
              "      <td>54336736</td>\n",
              "      <td>0.610738</td>\n",
              "    </tr>\n",
              "    <tr>\n",
              "      <th>23</th>\n",
              "      <td>ResNet50V2</td>\n",
              "      <td>23564800</td>\n",
              "      <td>0.610738</td>\n",
              "    </tr>\n",
              "    <tr>\n",
              "      <th>15</th>\n",
              "      <td>MobileNetV3Large</td>\n",
              "      <td>4226432</td>\n",
              "      <td>0.610738</td>\n",
              "    </tr>\n",
              "    <tr>\n",
              "      <th>19</th>\n",
              "      <td>ResNet101V2</td>\n",
              "      <td>42626560</td>\n",
              "      <td>0.617450</td>\n",
              "    </tr>\n",
              "  </tbody>\n",
              "</table>\n",
              "</div>"
            ],
            "text/plain": [
              "           model_name  num_model_params  validation_accuracy\n",
              "12        InceptionV3          21802784             0.362416\n",
              "21        ResNet152V2          58331648             0.382550\n",
              "26           Xception          20861480             0.429530\n",
              "13          MobileNet           3228864             0.469799\n",
              "17       NASNetMobile           4269716             0.489933\n",
              "24              VGG16          14714688             0.503356\n",
              "22           ResNet50          23587712             0.503356\n",
              "20          ResNet152          58370944             0.510067\n",
              "25              VGG19          20024384             0.510067\n",
              "9      EfficientNetB6          40960143             0.530201\n",
              "0         DenseNet121           7037504             0.543624\n",
              "5      EfficientNetB2           7768569             0.557047\n",
              "6      EfficientNetB3          10783535             0.557047\n",
              "1         DenseNet169          12642880             0.563758\n",
              "4      EfficientNetB1           6575239             0.570470\n",
              "7      EfficientNetB4          17673823             0.570470\n",
              "18          ResNet101          42658176             0.590604\n",
              "10     EfficientNetB7          64097687             0.590604\n",
              "14        MobileNetV2           2257984             0.590604\n",
              "16   MobileNetV3Small           1529968             0.597315\n",
              "8      EfficientNetB5          28513527             0.597315\n",
              "3      EfficientNetB0           4049571             0.604027\n",
              "2         DenseNet201          18321984             0.604027\n",
              "11  InceptionResNetV2          54336736             0.610738\n",
              "23         ResNet50V2          23564800             0.610738\n",
              "15   MobileNetV3Large           4226432             0.610738\n",
              "19        ResNet101V2          42626560             0.617450"
            ]
          },
          "metadata": {
            "tags": []
          },
          "execution_count": 26
        }
      ]
    },
    {
      "cell_type": "code",
      "metadata": {
        "colab": {
          "base_uri": "https://localhost:8080/",
          "height": 460
        },
        "id": "qoO9CADASkj8",
        "outputId": "452994c1-72dc-4b5c-9bf9-3ba12763a86a"
      },
      "source": [
        "# Loop over each row and plot the num_model_params vs validation_accuracy\n",
        "markers=[\".\",\",\",\"o\",\"v\",\"^\",\"<\",\">\",\"1\",\"2\",\"3\",\"4\",\"8\",\"s\",\"p\",\"P\",\"*\",\"h\",\"H\",\"+\",\"x\",\"X\",\"D\",\"d\",\"|\",\"_\",4,5,6,7,8,9,10,11]\n",
        "plt.figure(figsize=(7,5))\n",
        "for row in benchmark_df.itertuples():\n",
        "    plt.scatter(row.num_model_params, row.validation_accuracy, label=row.model_name, marker=markers[row.Index], s=150, linewidths=2)\n",
        "plt.xscale('log')\n",
        "plt.xlabel('Number of Parameters in Model')\n",
        "plt.ylabel('Validation Accuracy after 10 Epochs')\n",
        "plt.title('Accuracy vs Model Size')\n",
        "plt.legend(bbox_to_anchor=(1, 1), loc='upper left'); # Move legend out of the plot"
      ],
      "execution_count": 27,
      "outputs": [
        {
          "output_type": "display_data",
          "data": {
            "image/png": "[encoded data removed]",
            "text/plain": [
              "<Figure size 504x360 with 1 Axes>"
            ]
          },
          "metadata": {
            "tags": [],
            "needs_background": "light"
          }
        }
      ]
    }
  ]
}